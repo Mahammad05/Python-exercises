{
 "cells": [
  {
   "cell_type": "code",
   "execution_count": 8,
   "metadata": {},
   "outputs": [
    {
     "name": "stdout",
     "output_type": "stream",
     "text": [
      "45\n"
     ]
    }
   ],
   "source": [
    "# 1. İstifadəçi 0 daxil edənə qədər input daxil etsin daxil etdiklerini toplayın 0 daxil edəndə bitsin və cəm ekrana verilsin.\n",
    "\n",
    "def enter_number():\n",
    "    n = int(input('Enter a number'))\n",
    "    return n\n",
    "\n",
    "toplam = 0\n",
    "\n",
    "while True:\n",
    "    number = enter_number()\n",
    "    \n",
    "    if number == 0:\n",
    "        break\n",
    "    \n",
    "    toplam += number\n",
    "\n",
    "print(toplam)\n"
   ]
  },
  {
   "cell_type": "code",
   "execution_count": 22,
   "metadata": {},
   "outputs": [
    {
     "name": "stdout",
     "output_type": "stream",
     "text": [
      "[97, 70, 7, 69, 73, 64, 16, 48, 72, 61]\n",
      "The biggest number in list is 97\n",
      "The smallest number in list is 7\n"
     ]
    }
   ],
   "source": [
    "# 2. Bir list götürün və listdəki ən böyük və ən kiçik ədədi ekrana yazdırın.\n",
    "\n",
    "import random\n",
    "\n",
    "numbers = [random.randint(1, 100) for _ in range(10)]\n",
    "\n",
    "print(numbers)\n",
    "\n",
    "biggest = 0\n",
    "smallest = numbers[0]\n",
    "\n",
    "for i in numbers:\n",
    "\n",
    "    if biggest < i:\n",
    "        biggest=i\n",
    "\n",
    "    elif smallest > i:\n",
    "        smallest = i \n",
    "\n",
    "# print(max(numbers))\n",
    "print(f'The biggest number in list is {biggest}')\n",
    "print(f'The smallest number in list is {smallest}')"
   ]
  },
  {
   "cell_type": "code",
   "execution_count": 23,
   "metadata": {},
   "outputs": [
    {
     "name": "stdout",
     "output_type": "stream",
     "text": [
      "True\n",
      "2\n"
     ]
    }
   ],
   "source": [
    "# 3. Aşağıdakı kodun nəticəsi nə olacaq?\n",
    "\n",
    "tuple_a = 1, 2\n",
    "tuple_b = (1, 2)\n",
    "print(tuple_a == tuple_b)\n",
    "print(tuple_a[1])\n",
    "\n",
    "# tuple'lar muxtelif tipden olan verilenleri bir yerde saxlamaq ucun istifade olunur.\n",
    "# Eger iki tuple eyni deyerlere sahibdirse ve bu deyerlerin sirasida eynidirse bu zaman bu tuple'lar beraberdir.\n",
    "# Butun bunlari nezere alaraq qeyd etmek olarki print(tuple_a == tuple_b) kodunun neticesi True olacaq\n",
    "# print(tuple_a[1]) kodunun neticeside tuple'in 1. indexindeki deyeri qaytaracaq yeni 2"
   ]
  },
  {
   "cell_type": "code",
   "execution_count": 24,
   "metadata": {},
   "outputs": [
    {
     "name": "stdout",
     "output_type": "stream",
     "text": [
      "5\n",
      "4\n",
      "3\n",
      "2\n",
      "1\n",
      "All done\n"
     ]
    }
   ],
   "source": [
    "# 4. Aşağıdakı kodun nəticəsində ekrana nə çıxacaq?\n",
    "\n",
    "n = 5\n",
    "while n > 0 :\n",
    "    print(n)\n",
    "    # n -= 1\n",
    "print('All done')\n",
    "\n",
    "# Burada While serti n'in 0-dan boyuk butun qiymetleri ucun calisacaq. lakin biz dovrun icinde n-i azaltmadigimiz ucun dovr dayanmayacaq ve sonsuz dovre (loopa) girmis olacaq.\n",
    "# Bu problemi aradan qaldirmaq ucun n -= 1 setrini elave edirik. Belelikle n-in deyeri her dovurde 1 vahid azalacaq ve n 0-a beraber olduqda dovr sonlanacaq."
   ]
  },
  {
   "cell_type": "code",
   "execution_count": 29,
   "metadata": {},
   "outputs": [
    {
     "name": "stdout",
     "output_type": "stream",
     "text": [
      "You found in 7 attempts\n"
     ]
    }
   ],
   "source": [
    "# 5. Tutaq ki, n=13 istifadəçi 13 daxil edənə qədər input alın ve 13 daxil etdikdə desin ki, məsələn 5 cəhdə tapdız, yəni, neçə cəhdə tapdığını print etsin.\n",
    "\n",
    "secret_number = 13\n",
    "\n",
    "def enter_number():\n",
    "    number = int(input('Guess the secret number:'))\n",
    "    return number\n",
    "\n",
    "say = 1\n",
    "\n",
    "while True:\n",
    "    number = enter_number()\n",
    "\n",
    "    if number == secret_number:\n",
    "        break\n",
    "\n",
    "    say += 1\n",
    "\n",
    "print(f'You found in {say} attempts')"
   ]
  }
 ],
 "metadata": {
  "kernelspec": {
   "display_name": "Python 3",
   "language": "python",
   "name": "python3"
  },
  "language_info": {
   "codemirror_mode": {
    "name": "ipython",
    "version": 3
   },
   "file_extension": ".py",
   "mimetype": "text/x-python",
   "name": "python",
   "nbconvert_exporter": "python",
   "pygments_lexer": "ipython3",
   "version": "3.12.1"
  }
 },
 "nbformat": 4,
 "nbformat_minor": 2
}
