{
 "cells": [
  {
   "cell_type": "code",
   "execution_count": 8,
   "metadata": {},
   "outputs": [
    {
     "name": "stdout",
     "output_type": "stream",
     "text": [
      "45\n"
     ]
    }
   ],
   "source": [
    "# 1. İstifadəçi 0 daxil edənə qədər input daxil etsin daxil etdiklerini toplayın 0 daxil edəndə bitsin və cəm ekrana verilsin.\n",
    "\n",
    "def enter_number():\n",
    "    n = int(input('Enter a number'))\n",
    "    return n\n",
    "\n",
    "toplam = 0\n",
    "\n",
    "while True:\n",
    "    number = enter_number()\n",
    "    \n",
    "    if number == 0:\n",
    "        break\n",
    "    \n",
    "    toplam += number\n",
    "\n",
    "print(toplam)\n"
   ]
  },
  {
   "cell_type": "code",
   "execution_count": 22,
   "metadata": {},
   "outputs": [
    {
     "name": "stdout",
     "output_type": "stream",
     "text": [
      "[97, 70, 7, 69, 73, 64, 16, 48, 72, 61]\n",
      "The biggest number in list is 97\n",
      "The smallest number in list is 7\n"
     ]
    }
   ],
   "source": [
    "# 2. Bir list götürün və listdəki ən böyük və ən kiçik ədədi ekrana yazdırın.\n",
    "\n",
    "import random\n",
    "\n",
    "numbers = [random.randint(1, 100) for _ in range(10)]\n",
    "\n",
    "print(numbers)\n",
    "\n",
    "biggest = 0\n",
    "smallest = numbers[0]\n",
    "\n",
    "for i in numbers:\n",
    "\n",
    "    if biggest < i:\n",
    "        biggest=i\n",
    "\n",
    "    elif smallest > i:\n",
    "        smallest = i \n",
    "\n",
    "# print(max(numbers))\n",
    "print(f'The biggest number in list is {biggest}')\n",
    "print(f'The smallest number in list is {smallest}')"
   ]
  },
  {
   "cell_type": "code",
   "execution_count": 23,
   "metadata": {},
   "outputs": [
    {
     "name": "stdout",
     "output_type": "stream",
     "text": [
      "True\n",
      "2\n"
     ]
    }
   ],
   "source": [
    "# 3. Aşağıdakı kodun nəticəsi nə olacaq?\n",
    "\n",
    "tuple_a = 1, 2\n",
    "tuple_b = (1, 2)\n",
    "print(tuple_a == tuple_b)\n",
    "print(tuple_a[1])\n",
    "\n",
    "# tuple'lar muxtelif tipden olan verilenleri bir yerde saxlamaq ucun istifade olunur.\n",
    "# Eger iki tuple eyni deyerlere sahibdirse ve bu deyerlerin sirasida eynidirse bu zaman bu tuple'lar beraberdir.\n",
    "# Butun bunlari nezere alaraq qeyd etmek olarki print(tuple_a == tuple_b) kodunun neticesi True olacaq\n",
    "# print(tuple_a[1]) kodunun neticeside tuple'in 1. indexindeki deyeri qaytaracaq yeni 2"
   ]
  },
  {
   "cell_type": "code",
   "execution_count": 24,
   "metadata": {},
   "outputs": [
    {
     "name": "stdout",
     "output_type": "stream",
     "text": [
      "5\n",
      "4\n",
      "3\n",
      "2\n",
      "1\n",
      "All done\n"
     ]
    }
   ],
   "source": [
    "# 4. Aşağıdakı kodun nəticəsində ekrana nə çıxacaq?\n",
    "\n",
    "n = 5\n",
    "while n > 0 :\n",
    "    print(n)\n",
    "    # n -= 1\n",
    "print('All done')\n",
    "\n",
    "# Burada While serti n'in 0-dan boyuk butun qiymetleri ucun calisacaq. lakin biz dovrun icinde n-i azaltmadigimiz ucun dovr dayanmayacaq ve sonsuz dovre (loopa) girmis olacaq.\n",
    "# Bu problemi aradan qaldirmaq ucun n -= 1 setrini elave edirik. Belelikle n-in deyeri her dovurde 1 vahid azalacaq ve n 0-a beraber olduqda dovr sonlanacaq."
   ]
  },
  {
   "cell_type": "code",
   "execution_count": 29,
   "metadata": {},
   "outputs": [
    {
     "name": "stdout",
     "output_type": "stream",
     "text": [
      "You found in 7 attempts\n"
     ]
    }
   ],
   "source": [
    "# 5. Tutaq ki, n=13 istifadəçi 13 daxil edənə qədər input alın ve 13 daxil etdikdə desin ki, məsələn 5 cəhdə tapdız, yəni, neçə cəhdə tapdığını print etsin.\n",
    "\n",
    "secret_number = 13\n",
    "\n",
    "def enter_number():\n",
    "    number = int(input('Guess the secret number:'))\n",
    "    return number\n",
    "\n",
    "say = 1\n",
    "\n",
    "while True:\n",
    "    number = enter_number()\n",
    "\n",
    "    if number == secret_number:\n",
    "        break\n",
    "\n",
    "    say += 1\n",
    "\n",
    "print(f'You found in {say} attempts')"
   ]
  },
  {
   "cell_type": "code",
   "execution_count": 15,
   "metadata": {},
   "outputs": [
    {
     "name": "stdout",
     "output_type": "stream",
     "text": [
      "1 2 "
     ]
    }
   ],
   "source": [
    "# 6. Asagidaki kodun nəticəsi nə olacaq?\t\n",
    " \n",
    "i = 1\n",
    "while i % 3:   \n",
    "    print(i, end = ' ')\n",
    "    if i >= 10:\n",
    "        break\n",
    "    i += 1\n",
    "\n",
    "# Burada i % 3 un sifirdan ferqli butun qiymetleri ucun dovr calisacaq. Daha sonra print(i, end=' ') ifadesi ile i ekrana yazdirilir ve yaninda bir bosluq buraxilir. \n",
    "# Novbeti setrde i-in 10 ve ya 10-dan boyuk qiymeti ucun break ifadesi ile dovr sonlandirilir.\n",
    "# Yekun netice olaraq kodu calisdirsaq output olaraq 1 2 almis olariq. Buna sebeb 2. dovrden sonra i-in qiymetinin 3 olmasidir ve 3 % 3 ifadesi 0-a beraber olduqundan dovre girmeyecek ve kod sonlanacaq. \n"
   ]
  },
  {
   "cell_type": "code",
   "execution_count": 23,
   "metadata": {},
   "outputs": [
    {
     "name": "stdout",
     "output_type": "stream",
     "text": [
      "9.0\n"
     ]
    }
   ],
   "source": [
    "# 7. İstifadəçidən 2 ədəd alin ve bu iki ədəd arasindaki sadə ədədlərin ortalamasını print etdirin.\n",
    "\n",
    "first_number = int(input('Enter a first number:'))\n",
    "second_number = int(input('Enter a second number:'))\n",
    "\n",
    "prime_numbers = []\n",
    "\n",
    "def Prime(number):\n",
    "    n='S'\n",
    "    for i in range(2, number): \n",
    "        if number%i==0:\n",
    "            n='M'   \n",
    "    return n\n",
    "\n",
    "def Prime_checker(number):\n",
    "    if Prime(i) == 'S':\n",
    "            prime_numbers.append(i)\n",
    "\n",
    "if first_number < second_number:\n",
    "    for i in range(first_number, second_number + 1):\n",
    "        Prime_checker(i)\n",
    "else: \n",
    "    for i in range(second_number, first_number + 1):\n",
    "        Prime_checker(i)\n",
    "\n",
    "average = sum(prime_numbers) / len(prime_numbers)\n",
    "\n",
    "print(average)\n",
    "\n"
   ]
  },
  {
   "cell_type": "code",
   "execution_count": 25,
   "metadata": {},
   "outputs": [
    {
     "name": "stdout",
     "output_type": "stream",
     "text": [
      "36\n"
     ]
    }
   ],
   "source": [
    "# 8. İstifadəçi 2 ədəd daxil etsin və bu 2 ədəd arasındaki sadə ədədlərin cəmini tapın.\n",
    "\n",
    "first_number = int(input('Enter a first number:'))\n",
    "second_number = int(input('Enter a second number:'))\n",
    "\n",
    "prime_numbers = []\n",
    "\n",
    "def Prime(number):\n",
    "    n='S'\n",
    "    for i in range(2, number): \n",
    "        if number%i==0:\n",
    "            n='M'   \n",
    "    return n\n",
    "\n",
    "def Prime_checker(number):\n",
    "    if Prime(i) == 'S':\n",
    "            prime_numbers.append(i)\n",
    "\n",
    "if first_number < second_number:\n",
    "    for i in range(first_number, second_number + 1):\n",
    "        Prime_checker(i)\n",
    "else: \n",
    "    for i in range(second_number, first_number + 1):\n",
    "        Prime_checker(i)\n",
    "\n",
    "toplam = sum(prime_numbers)\n",
    "\n",
    "print(toplam)"
   ]
  },
  {
   "cell_type": "code",
   "execution_count": 46,
   "metadata": {},
   "outputs": [
    {
     "name": "stdout",
     "output_type": "stream",
     "text": [
      "m\n",
      "a\n",
      "h\n",
      "a\n",
      "m\n",
      "m\n",
      "a\n",
      "d\n"
     ]
    }
   ],
   "source": [
    "# 9. İstifadəçidən adını alın məsələn Natiq bunun hərflərini print etdirin amma çalışın while ilə edin\n",
    "\n",
    "name = str(input('Enter you name:'))\n",
    "\n",
    "while len(name) > 0:\n",
    "    print(name[0])\n",
    "    name = name[1:]"
   ]
  },
  {
   "cell_type": "code",
   "execution_count": 51,
   "metadata": {},
   "outputs": [
    {
     "name": "stdout",
     "output_type": "stream",
     "text": [
      "turan\n",
      "turan\n",
      "turan\n",
      "turan\n",
      "turan\n",
      "turan\n",
      "turan\n",
      "turan\n",
      "turan\n",
      "turan\n"
     ]
    }
   ],
   "source": [
    "# 10. İstifadəçidən bir string alın məsələn Natiq bunu while ilə 10 dəfə Ekrana yazdırın.\n",
    "\n",
    "name = str(input('Enter you name:'))\n",
    "\n",
    "i=0\n",
    "\n",
    "while i < 10:\n",
    "    print(name)\n",
    "    i += 1"
   ]
  },
  {
   "cell_type": "code",
   "execution_count": 91,
   "metadata": {},
   "outputs": [
    {
     "name": "stdout",
     "output_type": "stream",
     "text": [
      "[1, 2, 3, 4, 7]\n"
     ]
    }
   ],
   "source": [
    "# 11. [3, 2, 4, 1] şəklində bir list verilib. Bu listin sıralanmış variantını print etdirin.\n",
    "\n",
    "numbers = [3, 2, 4, 1, 7]\n",
    "\n",
    "def selection_sort(arr):\n",
    "    n = len(arr)\n",
    "\n",
    "    for i in range(n - 1):\n",
    "        min_index = i\n",
    "\n",
    "        for j in range(i + 1, n):\n",
    "            if arr[j] < arr[min_index]:\n",
    "                min_index = j\n",
    "\n",
    "        arr[i], arr[min_index] = arr[min_index], arr[i]\n",
    "\n",
    "selection_sort(numbers)\n",
    "\n",
    "print(numbers)"
   ]
  },
  {
   "cell_type": "code",
   "execution_count": 101,
   "metadata": {},
   "outputs": [
    {
     "name": "stdout",
     "output_type": "stream",
     "text": [
      "12 ededinin faktoriali: 479001600\n"
     ]
    }
   ],
   "source": [
    "# 12. İstifadəçinin daxil etdiyi ədədin faktorialını print etdirin.\n",
    "\n",
    "n = int(input('Enter a number:'))\n",
    "\n",
    "faktorial = 1\n",
    "\n",
    "for i in range(1, n+1):\n",
    "    faktorial *= i\n",
    "\n",
    "print(f'{n} ededinin faktoriali: {faktorial}')    \n"
   ]
  },
  {
   "cell_type": "code",
   "execution_count": 104,
   "metadata": {},
   "outputs": [
    {
     "name": "stdout",
     "output_type": "stream",
     "text": [
      "Sade ededlerin cemi 42, Murekkeb ededlerin cemi 94\n"
     ]
    }
   ],
   "source": [
    "# 13. 1-dən istifadəçinin daxil etdiyi ədədə qədər olan sadə ədədləri bir, mürəkkəb ədədləri bir toplayın və format istifadə edərək print etdirin.\n",
    "\n",
    "first_number = 1\n",
    "second_number = int(input('Enter a number:'))\n",
    "\n",
    "prime_numbers = []\n",
    "complex_numbers = []\n",
    "\n",
    "def Prime(number):\n",
    "    n='S'\n",
    "    for i in range(2, number): \n",
    "        if number%i==0:\n",
    "            n='M'   \n",
    "    return n\n",
    "\n",
    "def Prime_checker(number):\n",
    "    if Prime(i) == 'S':\n",
    "        prime_numbers.append(i)\n",
    "    else:\n",
    "        complex_numbers.append(i)\n",
    "\n",
    "\n",
    "for i in range(first_number, second_number + 1):\n",
    "        Prime_checker(i)\n",
    "\n",
    "prime_sum = sum(prime_numbers)\n",
    "complex_sum = sum(complex_numbers)\n",
    "\n",
    "print('Sade ededlerin cemi {}, Murekkeb ededlerin cemi {}'.format(prime_sum, complex_sum))"
   ]
  },
  {
   "cell_type": "code",
   "execution_count": 116,
   "metadata": {},
   "outputs": [
    {
     "name": "stdout",
     "output_type": "stream",
     "text": [
      "45123 ededinin reqemlerinin sayi: 5\n"
     ]
    }
   ],
   "source": [
    "# 14. Bir ədəd daxil edin və rəqəmlərinin sayını print etdirin.\n",
    "\n",
    "n = int(input('Enter a number:'))\n",
    "number = n\n",
    "\n",
    "say = 1\n",
    "\n",
    "while True:\n",
    "    number = number // 10\n",
    "    if number == 0:\n",
    "        break\n",
    "    else:\n",
    "        say += 1\n",
    "\n",
    "print(f'{n} ededinin reqemlerinin sayi: {say}')"
   ]
  },
  {
   "cell_type": "code",
   "execution_count": 122,
   "metadata": {},
   "outputs": [
    {
     "name": "stdout",
     "output_type": "stream",
     "text": [
      "5, 12, 36 ortancil:\n",
      "12\n"
     ]
    }
   ],
   "source": [
    "# 15. 3 ədəd daxil  edin ortancılı print etsin.\n",
    "first = int(input('Enter a first number:'))\n",
    "second = int(input('Enter a second number:'))\n",
    "third = int(input('Enter a third number:'))\n",
    "\n",
    "print(f'{first}, {second}, {third} ortancil:')\n",
    "\n",
    "def ortancil(a, b, c):\n",
    "    if (a > b and a < c) or (a > c and a < b):\n",
    "        print(a)\n",
    "    elif (b > a and b < c) or (b > c and b < a):\n",
    "        print(b)\n",
    "    elif (c > a and c < b) or (c > b and c < a):\n",
    "        print(c)\n",
    "\n",
    "ortancil(first, second, third)"
   ]
  },
  {
   "cell_type": "code",
   "execution_count": 123,
   "metadata": {},
   "outputs": [
    {
     "name": "stdout",
     "output_type": "stream",
     "text": [
      "['Lankaran', 'Ganca', 'Baku', 'Moscow', 'Istanbul', 'Madrid', 'California', 'Paris', 'Dubai']\n"
     ]
    }
   ],
   "source": [
    "# 16. Bir list var içində şəhərlər ona yeni şəhərlər əlavə edin.\n",
    "\n",
    "cities = ['Lankaran', 'Ganca', 'Baku', 'Moscow', 'Istanbul', 'Madrid']\n",
    "\n",
    "cities.append('California')\n",
    "cities.append('Paris')\n",
    "cities.append('Dubai')\n",
    "\n",
    "print(cities)"
   ]
  },
  {
   "cell_type": "code",
   "execution_count": 126,
   "metadata": {},
   "outputs": [
    {
     "name": "stdout",
     "output_type": "stream",
     "text": [
      "3 tekdir\n"
     ]
    }
   ],
   "source": [
    "# 17. Sonra hər hansi şəhərin indeksini tapın və həmin indeksin təkmi cütmü olduğunu ekrana verin.\n",
    "\n",
    "index = cities.index('Moscow')\n",
    "\n",
    "if index % 2 == 0:\n",
    "    print(f'{index} cutdur')\n",
    "else:\n",
    "    print(f'{index} tekdir')"
   ]
  },
  {
   "cell_type": "code",
   "execution_count": 127,
   "metadata": {},
   "outputs": [
    {
     "name": "stdout",
     "output_type": "stream",
     "text": [
      "['Lankaran', 'Ganca', 'Baku', 'Moscow', 'Istanbul', 'Madrid', 'California', 'Dubai']\n"
     ]
    }
   ],
   "source": [
    "# 18. Sonra hər hansi bir şəhəri silin.\n",
    "\n",
    "cities.remove('Paris')\n",
    "print(cities)"
   ]
  },
  {
   "cell_type": "code",
   "execution_count": 129,
   "metadata": {},
   "outputs": [
    {
     "name": "stdout",
     "output_type": "stream",
     "text": [
      "1 3 Bingo!\n"
     ]
    }
   ],
   "source": [
    "# 19. Aşağıdakı kodun nəticəsi nə olacaq?\n",
    "\n",
    "for i in range(1, 10, 2):\n",
    "    if i%5 == 0:\n",
    "        print(\"Bingo!\")\n",
    "        break\n",
    "    else:\n",
    "        print(i, end=' ')\n",
    "\n",
    "# Burada range(1, 10, 2) ifadesi 1-den basalayaraq 10-a qeder her dovrde i-nin deyerini 2 addim artiraraq davam edir.\n",
    "# Neticede bu kodunu cixisi bu cur olacaq: 1 3 Bingo!"
   ]
  },
  {
   "cell_type": "code",
   "execution_count": 134,
   "metadata": {},
   "outputs": [
    {
     "name": "stdout",
     "output_type": "stream",
     "text": [
      "1 x 1 = 1\n",
      "1 x 2 = 2\n",
      "1 x 3 = 3\n",
      "1 x 4 = 4\n",
      "1 x 5 = 5\n",
      "1 x 6 = 6\n",
      "1 x 7 = 7\n",
      "1 x 8 = 8\n",
      "1 x 9 = 9\n",
      "--------------------------\n",
      "2 x 1 = 2\n",
      "2 x 2 = 4\n",
      "2 x 3 = 6\n",
      "2 x 4 = 8\n",
      "2 x 5 = 10\n",
      "2 x 6 = 12\n",
      "2 x 7 = 14\n",
      "2 x 8 = 16\n",
      "2 x 9 = 18\n",
      "--------------------------\n",
      "3 x 1 = 3\n",
      "3 x 2 = 6\n",
      "3 x 3 = 9\n",
      "3 x 4 = 12\n",
      "3 x 5 = 15\n",
      "3 x 6 = 18\n",
      "3 x 7 = 21\n",
      "3 x 8 = 24\n",
      "3 x 9 = 27\n",
      "--------------------------\n",
      "4 x 1 = 4\n",
      "4 x 2 = 8\n",
      "4 x 3 = 12\n",
      "4 x 4 = 16\n",
      "4 x 5 = 20\n",
      "4 x 6 = 24\n",
      "4 x 7 = 28\n",
      "4 x 8 = 32\n",
      "4 x 9 = 36\n",
      "--------------------------\n",
      "5 x 1 = 5\n",
      "5 x 2 = 10\n",
      "5 x 3 = 15\n",
      "5 x 4 = 20\n",
      "5 x 5 = 25\n",
      "5 x 6 = 30\n",
      "5 x 7 = 35\n",
      "5 x 8 = 40\n",
      "5 x 9 = 45\n",
      "--------------------------\n",
      "6 x 1 = 6\n",
      "6 x 2 = 12\n",
      "6 x 3 = 18\n",
      "6 x 4 = 24\n",
      "6 x 5 = 30\n",
      "6 x 6 = 36\n",
      "6 x 7 = 42\n",
      "6 x 8 = 48\n",
      "6 x 9 = 54\n",
      "--------------------------\n",
      "7 x 1 = 7\n",
      "7 x 2 = 14\n",
      "7 x 3 = 21\n",
      "7 x 4 = 28\n",
      "7 x 5 = 35\n",
      "7 x 6 = 42\n",
      "7 x 7 = 49\n",
      "7 x 8 = 56\n",
      "7 x 9 = 63\n",
      "--------------------------\n",
      "8 x 1 = 8\n",
      "8 x 2 = 16\n",
      "8 x 3 = 24\n",
      "8 x 4 = 32\n",
      "8 x 5 = 40\n",
      "8 x 6 = 48\n",
      "8 x 7 = 56\n",
      "8 x 8 = 64\n",
      "8 x 9 = 72\n",
      "--------------------------\n"
     ]
    }
   ],
   "source": [
    "# 20. Vurma cədvəlini ekrana yazdıran Python kodu yazın.\n",
    "\n",
    "numbers = [1, 2, 3, 4, 5, 6, 7, 8, 9]\n",
    "\n",
    "for i in range(len(numbers) - 1):\n",
    "     n=numbers[i]\n",
    "     for j in numbers:\n",
    "          print(f'{n} x {j} = {n * j}')\n",
    "     print('--------------------------')"
   ]
  },
  {
   "cell_type": "code",
   "execution_count": 139,
   "metadata": {},
   "outputs": [
    {
     "name": "stdout",
     "output_type": "stream",
     "text": [
      "Age: 15  You can't get a driver license\n"
     ]
    }
   ],
   "source": [
    "# 21. Yaşı daxil edilən vətəndaşın sürücülük vəsiqəsinə yaşı çatıb-çatmadığını ekrana yazdıran kod yazın.\n",
    "\n",
    "age = int(input('Please enter your age:'))\n",
    "\n",
    "if age >= 18:\n",
    "    print(f'Age: {age}  You can get a driver license')\n",
    "else:\n",
    "    print(f\"Age: {age}  You can't get a driver license\")"
   ]
  },
  {
   "cell_type": "code",
   "execution_count": 147,
   "metadata": {},
   "outputs": [
    {
     "name": "stdout",
     "output_type": "stream",
     "text": [
      "Summer\n"
     ]
    }
   ],
   "source": [
    "# 22. Ayın nömrəsi daxil edilir və ilin fəsli ekrana yazdırılır.\n",
    "#  İnput: 5                                    Output: Yaz\n",
    "\n",
    "month = int(input(\"Enter a month's number:\"))\n",
    "\n",
    "if month > 12 or month < 1:\n",
    "    print(\"Month's number is incorrect!\")\n",
    "else:\n",
    "    if month in [12, 1, 2]:\n",
    "        print('Winter')\n",
    "    elif month in [3, 4, 5]:\n",
    "        print('Spring')\n",
    "    elif month in [6, 7, 8]:\n",
    "        print('Summer')\n",
    "    else:\n",
    "        print('Fall')"
   ]
  },
  {
   "cell_type": "code",
   "execution_count": 164,
   "metadata": {},
   "outputs": [
    {
     "name": "stdout",
     "output_type": "stream",
     "text": [
      "4279's biggest digit is 9\n"
     ]
    }
   ],
   "source": [
    "# 23. n ədədi daxil edilir və ən böyük rəqəmini ekrana yazdırın.\n",
    "#  İnput: 2354                            Output: 5\n",
    "\n",
    "number = int(input('Enter a number:'))\n",
    "k = number\n",
    "n = None\n",
    "numbers = []\n",
    "\n",
    "\n",
    "while True:\n",
    "    n = k % 10\n",
    "    k = k // 10\n",
    "    numbers.append(n)\n",
    "    if k == 0:\n",
    "        break\n",
    "\n",
    "biggest = numbers[0]\n",
    "\n",
    "for i in numbers:\n",
    "    if biggest < i:\n",
    "        biggest = i\n",
    "\n",
    "print(f\"{number}'s biggest digit is {biggest}\")"
   ]
  },
  {
   "cell_type": "code",
   "execution_count": 167,
   "metadata": {},
   "outputs": [
    {
     "name": "stdout",
     "output_type": "stream",
     "text": [
      "Input: 8756\n",
      "6578"
     ]
    }
   ],
   "source": [
    "# 24. Daxil edilən n tam ədədini əks ardıcıllıqla yazın.\n",
    "# İnput: 1234                       Output: 4321\n",
    "\n",
    "number = int(input('Enter a number:'))\n",
    "k = number\n",
    "n = None\n",
    "\n",
    "print(f'Input: {number}')\n",
    "\n",
    "while True:\n",
    "    n = k % 10\n",
    "    k = k // 10\n",
    "    print(n, end='')\n",
    "    if k == 0:\n",
    "        break"
   ]
  },
  {
   "cell_type": "code",
   "execution_count": 182,
   "metadata": {},
   "outputs": [
    {
     "name": "stdout",
     "output_type": "stream",
     "text": [
      "[8, 7, 6, 5, 4]\n"
     ]
    }
   ],
   "source": [
    "# 25. n sayda tam ədəd daxil edilir və bu ədədləri tərsinə sırada ekrana yazdırın.\n",
    "\n",
    "numbers = str(input('Enter numbers:')).split(' ')\n",
    "revers = []\n",
    "\n",
    "for i in range(len(numbers)):\n",
    "    revers.append(int(numbers.pop()))\n",
    "\n",
    "print(revers)"
   ]
  },
  {
   "cell_type": "code",
   "execution_count": 185,
   "metadata": {},
   "outputs": [
    {
     "name": "stdout",
     "output_type": "stream",
     "text": [
      "The phone number is 0506867226\n",
      "1 3 4 9 "
     ]
    }
   ],
   "source": [
    "# 26. Mobil telefon nömrəsi daxil edilir və bu nömrədə hansı rəqəmlərin olmadığını müəyyənləşdirin. \n",
    "# İnput: 0631562976                                                         Output: 2\n",
    "\n",
    "phone_number = str(input('Enter a phone number:'))\n",
    "numbers = [0, 1, 2, 3, 4, 5, 6, 7, 8, 9]\n",
    "\n",
    "print(f'The phone number is {phone_number}')\n",
    "\n",
    "for i in numbers:\n",
    "    if str(i) not in phone_number:\n",
    "        print(i, end=' ')\n"
   ]
  },
  {
   "cell_type": "code",
   "execution_count": 191,
   "metadata": {},
   "outputs": [
    {
     "name": "stdout",
     "output_type": "stream",
     "text": [
      "Daxil edilen eded 459 \n",
      " Ededin hasili ile ceminin ferqi: 180 - 18 = 162\n"
     ]
    }
   ],
   "source": [
    "# 27. Daxil edilən ədədin rəqəmlərinin hasili ilə cəminin fərqini tapın.\n",
    "# Input: 198                                                Output: 54\n",
    "\n",
    "number = int(input('Eneter a number:'))\n",
    "k = number\n",
    "n = None\n",
    "numbers = []\n",
    "\n",
    "while True:\n",
    "    n = k % 10\n",
    "    k = k // 10\n",
    "    numbers.append(n)\n",
    "    if k == 0:\n",
    "        break\n",
    "\n",
    "toplam = sum(numbers)\n",
    "hasil = 1\n",
    "\n",
    "for i in numbers:\n",
    "    hasil *= i\n",
    "\n",
    "print(f\"Daxil edilen eded {number} \\n Ededin hasili ile ceminin ferqi: {hasil} - {toplam} = {hasil - toplam}\")"
   ]
  }
 ],
 "metadata": {
  "kernelspec": {
   "display_name": "Python 3",
   "language": "python",
   "name": "python3"
  },
  "language_info": {
   "codemirror_mode": {
    "name": "ipython",
    "version": 3
   },
   "file_extension": ".py",
   "mimetype": "text/x-python",
   "name": "python",
   "nbconvert_exporter": "python",
   "pygments_lexer": "ipython3",
   "version": "3.12.1"
  }
 },
 "nbformat": 4,
 "nbformat_minor": 2
}
