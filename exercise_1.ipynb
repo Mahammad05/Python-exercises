{
 "cells": [
  {
   "cell_type": "code",
   "execution_count": 10,
   "metadata": {},
   "outputs": [
    {
     "name": "stdout",
     "output_type": "stream",
     "text": [
      "38's positive divisors:\n",
      "1\n",
      "2\n",
      "19\n",
      "38\n"
     ]
    }
   ],
   "source": [
    "# 1. Daxil edilən n ədədinin bütün müsbət bölənlərini print etdirin.\n",
    "\n",
    "number = int(input('Enter a number'));\n",
    "\n",
    "def positive_divisors(n):\n",
    "    print(f\"{n}'s positive divisors:\")\n",
    "\n",
    "    for i in range(1, n + 1):\n",
    "        if n % i == 0:\n",
    "            print(i)\n",
    "    \n",
    "positive_divisors(number);"
   ]
  },
  {
   "cell_type": "code",
   "execution_count": 63,
   "metadata": {},
   "outputs": [
    {
     "name": "stdout",
     "output_type": "stream",
     "text": [
      "496 is a perfect number\n"
     ]
    }
   ],
   "source": [
    "# 2. Daxil edilən n ədədin mükəmməl olub olmadığını print edin. \n",
    "# Ədənin özü xaric müsbət bölənlərinin cəmi özünə bərabərdirsə belə ədədə mükəmməl ədəd deyilir.\n",
    "# Məsələn, 1,2 və 3 6-nin bölənləridir cəmləri də 6-ya bərabərdir. \n",
    "\n",
    "number = int(input('Enter a number'))\n",
    "\n",
    "divisors = []\n",
    "\n",
    "def positive_divisors(n):\n",
    "\n",
    "    for i in range(1, n):\n",
    "        if n % i == 0:\n",
    "            divisors.append(i)\n",
    "\n",
    "positive_divisors(number)\n",
    "\n",
    "#there is also a sum() function \n",
    "toplam = 0\n",
    "\n",
    "for i in divisors:\n",
    "    toplam = toplam + i\n",
    "\n",
    "if toplam == number:\n",
    "    print(f\"{number} is a perfect number\")\n",
    "else:\n",
    "    print(f\"{number} is not a perfect number\")\n",
    "\n"
   ]
  },
  {
   "cell_type": "code",
   "execution_count": 30,
   "metadata": {},
   "outputs": [
    {
     "name": "stdout",
     "output_type": "stream",
     "text": [
      "[1, 3, 5, 7, 9, 11, 13, 15, 17, 19, 21, 23, 25, 27, 29, 31, 33, 35, 37, 39, 41, 43, 45, 47, 49, 51, 53, 55, 57, 59, 61, 63, 65, 67, 69, 71, 73, 75, 77, 79, 81, 83, 85, 87, 89, 91, 93, 95, 97, 99]\n"
     ]
    }
   ],
   "source": [
    "# 3. Bir list yaradın və 1-dən 100-ə qədər olan ədədlərdən tək olanları bu listə yazın və sonda listi print etdirin\n",
    "\n",
    "odd_numbers = []\n",
    "\n",
    "for i in range(1, 100):\n",
    "    if i % 2 != 0:\n",
    "        odd_numbers.append(i)\n",
    "        \n",
    "print(odd_numbers)"
   ]
  },
  {
   "cell_type": "code",
   "execution_count": 33,
   "metadata": {},
   "outputs": [
    {
     "name": "stdout",
     "output_type": "stream",
     "text": [
      "[1, 2, 2, 3, 3, 3, 4, 4, 4, 4]\n",
      "{1, 2, 3, 4}\n",
      "6\n"
     ]
    }
   ],
   "source": [
    "# 4. Aşağıdakı kodun nəticəsi nə olacaq?\n",
    "\n",
    "a = [1, 2, 2, 3, 3, 3, 4, 4, 4, 4]\n",
    "b = set(a)\n",
    "print(a)\n",
    "print(b)\n",
    "print(len(a) - len(b))\n",
    "\n",
    "# Setlerde her elementden yanliz bir dene ola biler buna gore de b setinin uzunlugu 4 olacaq. a listinin uzunlugu 10 oldugu halda kodun neticesi (10 - 4) = 6 olacaq"
   ]
  },
  {
   "cell_type": "code",
   "execution_count": 37,
   "metadata": {},
   "outputs": [
    {
     "name": "stdout",
     "output_type": "stream",
     "text": [
      "100\n",
      "99\n",
      "98\n",
      "97\n",
      "96\n",
      "95\n",
      "94\n",
      "93\n",
      "92\n",
      "91\n",
      "90\n",
      "89\n",
      "88\n",
      "87\n",
      "86\n",
      "85\n",
      "84\n",
      "83\n",
      "82\n",
      "81\n",
      "80\n",
      "79\n",
      "78\n",
      "77\n",
      "76\n",
      "75\n",
      "74\n",
      "73\n",
      "72\n",
      "71\n",
      "70\n",
      "69\n",
      "68\n",
      "67\n",
      "66\n",
      "65\n",
      "64\n",
      "63\n",
      "62\n",
      "61\n",
      "60\n",
      "59\n",
      "58\n",
      "57\n",
      "56\n",
      "55\n",
      "54\n",
      "53\n",
      "52\n",
      "51\n",
      "50\n",
      "49\n",
      "48\n",
      "47\n",
      "46\n",
      "45\n",
      "44\n",
      "43\n",
      "42\n",
      "41\n",
      "40\n",
      "39\n",
      "38\n",
      "37\n",
      "36\n",
      "35\n",
      "34\n",
      "33\n",
      "32\n",
      "31\n",
      "30\n",
      "29\n",
      "28\n",
      "27\n",
      "26\n",
      "25\n",
      "24\n",
      "23\n",
      "22\n",
      "21\n",
      "20\n",
      "19\n",
      "18\n",
      "17\n",
      "16\n",
      "15\n",
      "14\n",
      "13\n",
      "12\n",
      "11\n",
      "10\n",
      "9\n",
      "8\n",
      "7\n",
      "6\n",
      "5\n",
      "4\n",
      "3\n",
      "2\n",
      "1\n"
     ]
    }
   ],
   "source": [
    "# 5. 1-dən 100-ə qədər olan ədədləri 100-dən 1-ə şəklində print etdirin.\n",
    "\n",
    "my_list = []\n",
    "\n",
    "for i in range(1, 101):\n",
    "    my_list.append(i)\n",
    "\n",
    "my_list.reverse()\n",
    "\n",
    "for i in my_list:\n",
    "    print(i)"
   ]
  },
  {
   "cell_type": "code",
   "execution_count": 53,
   "metadata": {},
   "outputs": [
    {
     "data": {
      "text/plain": [
       "2"
      ]
     },
     "execution_count": 53,
     "metadata": {},
     "output_type": "execute_result"
    }
   ],
   "source": [
    "# 6. Aşağıdakı kod çalışdıqdan sonra 5 set-in içində hansı indeksdə olacaq? Fikrinizi izah edin.\n",
    "\n",
    "a = [1, 2, 2, 3, 3, 3, 4, 4, 4, 4]\n",
    "b = set(a)\n",
    "b.add(5)\n",
    "b.pop()\n",
    "\n",
    "# Setler listler kimi sirali struktur olmadigi ucun onlar haqqinda index anlayisini isletmek duzgun deyil. Bu kod run edildikden sonra setin icine 5 ededi elave olunacaq.\n",
    "# my_set.pop() metodu ise setin icinden random bir eded cixaracaq"
   ]
  },
  {
   "cell_type": "code",
   "execution_count": 55,
   "metadata": {},
   "outputs": [
    {
     "name": "stdout",
     "output_type": "stream",
     "text": [
      "['Azerbaijan', '*', '*', 'Russia', '*', 'Denmark', 'Brazil', '*', 'Turkey', '*']\n"
     ]
    }
   ],
   "source": [
    "# 7. Əlinizdə ölkə adlarının olduğu ölkə listi var. Yeni bir list yaradın və ölkə listində olan ölkələri yaratdığınız yeni listə yazın.\n",
    "# Lakin ölkənin uzunluğu 5-dən böyükdürsə olduğu kimi yazın, əks halda, yerinə * yazın.\n",
    "\n",
    "countries = ['Azerbaijan', 'Cuba', 'Benin', 'Russia', 'Chile', 'Denmark', 'Brazil', 'China', 'Turkey', 'Fiji']\n",
    "\n",
    "filtered_countries = []\n",
    "\n",
    "for i in countries:\n",
    "    if len(i) > 5:\n",
    "        filtered_countries.append(i)\n",
    "    else:\n",
    "        filtered_countries.append('*')\n",
    "\n",
    "print(filtered_countries)"
   ]
  },
  {
   "cell_type": "code",
   "execution_count": 58,
   "metadata": {},
   "outputs": [
    {
     "name": "stdout",
     "output_type": "stream",
     "text": [
      "2\n"
     ]
    }
   ],
   "source": [
    "# 8. s=’budama’ sözündə “a” hərflərinin sayını print etdirin.\n",
    "\n",
    "s = 'budama'\n",
    "\n",
    "say = 0\n",
    "\n",
    "for i in s:\n",
    "    if i == 'a':\n",
    "        say=say + 1\n",
    "print(say)"
   ]
  },
  {
   "cell_type": "code",
   "execution_count": 73,
   "metadata": {},
   "outputs": [
    {
     "name": "stdout",
     "output_type": "stream",
     "text": [
      "2550\n"
     ]
    }
   ],
   "source": [
    "# 9. 0-dan 100-ə qədər cüt ədədləri toplayın, amma bunu while ilə edin.\n",
    "\n",
    "number = 1\n",
    "toplam = 0\n",
    "\n",
    "while number < 101:\n",
    "    if number % 2 == 0:\n",
    "        toplam = toplam + number\n",
    "    number = number + 1\n",
    "\n",
    "print(toplam)"
   ]
  },
  {
   "cell_type": "code",
   "execution_count": 75,
   "metadata": {},
   "outputs": [
    {
     "name": "stdout",
     "output_type": "stream",
     "text": [
      "Albert & Ben & Carol & Donna\n"
     ]
    }
   ],
   "source": [
    "# 10. Aşağıdakı kodun nəticəsi nə olacaq?\n",
    "\n",
    "names = [\"Carol\", \"Albert\", \"Ben\", \"Donna\"]\n",
    "print(\" & \".join(sorted(names)))\n",
    "\n",
    "# sorted() metodunu stringlerden ibaret bir list uzerinde key acar sozu ile birge isledib istediyimiz parametrlere gore sort ede bilerik. \n",
    "# Bu kodda ise key acar sozu isledilmediyinden sorted() metodu avtomatik olaraq stringleri elifba sirasina gore duzecek\n"
   ]
  },
  {
   "cell_type": "code",
   "execution_count": 78,
   "metadata": {},
   "outputs": [
    {
     "name": "stdout",
     "output_type": "stream",
     "text": [
      "15 + 12 = 27\n"
     ]
    }
   ],
   "source": [
    "# 11. Aşağıdakı kodun nəticəsi nə olacaq?\n",
    "n1 = 15\n",
    "n2 = 12\n",
    "cem = n1 + n2  \n",
    "print(\"{0} + {1} = {2}\" .format(n1, n2, cem))\n",
    "\n",
    "# format() metodu bir string metodu olub {} simvollari ile cumle icerisinde tutlmus yerleri doldurmaq ucun istifade olunur. \n",
    "# Bunu hem sirasiz hemde {1}, {0} ve.s sirali sekilde etmek mumukundur.\n",
    "# Tapsiriqda verilmis kodu calisdirsaq alariq: 15 + 12 = 27\n"
   ]
  },
  {
   "cell_type": "code",
   "execution_count": 79,
   "metadata": {},
   "outputs": [
    {
     "name": "stdout",
     "output_type": "stream",
     "text": [
      "Cox yaxşı: 88 B\n"
     ]
    }
   ],
   "source": [
    "# 12. Daxilən edilən viza(30%), fərdi fəaliyyət(20%) və final(50%) balına görə tələbənin dərsi keçib-keçmədiyini print etdirin\n",
    "\n",
    "viza_bali = int(input('Viza balini daxil edin: '))\n",
    "ferdi_bali = int(input('Ferdi iş balini daxil edin: '))\n",
    "imtahan_bali = int(input('Imtahan balini daxil edin: '))\n",
    "\n",
    "yekun_bal = viza_bali + ferdi_bali + imtahan_bali\n",
    "\n",
    "if yekun_bal < 51:\n",
    "    print(f'Qeyri kafi: {yekun_bal} F')\n",
    "elif yekun_bal < 61:\n",
    "    print(f'Qənaətbəxş: {yekun_bal} E')\n",
    "elif yekun_bal < 71:\n",
    "    print(f'Kafi: {yekun_bal} D')\n",
    "elif yekun_bal < 81:\n",
    "    print(f'Yaxşı: {yekun_bal} C')\n",
    "elif yekun_bal < 91:\n",
    "    print(f'Cox yaxşı: {yekun_bal} B')\n",
    "else:\n",
    "    print(f'Əla: {yekun_bal} A')"
   ]
  },
  {
   "cell_type": "code",
   "execution_count": 19,
   "metadata": {},
   "outputs": [
    {
     "name": "stdout",
     "output_type": "stream",
     "text": [
      "17\n",
      "19\n",
      "23\n",
      "29\n",
      "31\n",
      "37\n",
      "41\n",
      "43\n"
     ]
    }
   ],
   "source": [
    "# 13. Daxil edilmiş 2 ədəd arasındakı sadə ədələri ekrana yazdırın.\n",
    "\n",
    "first_number = int(input('Enter a first number:'))\n",
    "second_number = int(input('Enter a second number:'))\n",
    "\n",
    "def Prime(number):\n",
    "    n='S'\n",
    "    for i in range(2, number): \n",
    "        if number%i==0:\n",
    "            n='M'   \n",
    "    return n\n",
    "\n",
    "\n",
    "if first_number < second_number:\n",
    "    for i in range(first_number, second_number + 1):\n",
    "        if Prime(i) == 'S':\n",
    "            print(i)\n",
    "else: \n",
    "    for i in range(second_number, first_number + 1):\n",
    "        if Prime(i) == 'S':\n",
    "            print(i)"
   ]
  },
  {
   "cell_type": "code",
   "execution_count": 20,
   "metadata": {},
   "outputs": [
    {
     "name": "stdout",
     "output_type": "stream",
     "text": [
      "900.0\n"
     ]
    }
   ],
   "source": [
    "# 14. Əmək haqqı və artım faizi daxil edilən işçinin yeni əmək haqqını hesablayın.\n",
    "\n",
    "current_salary = int(input('Enter a salary:'))\n",
    "growth_rate = int(input('Enter a growth rate:'))\n",
    "\n",
    "growth_amount = (current_salary * growth_rate) / 100\n",
    "\n",
    "salary = current_salary + growth_amount\n",
    "\n",
    "print(salary)"
   ]
  },
  {
   "cell_type": "code",
   "execution_count": 23,
   "metadata": {},
   "outputs": [
    {
     "name": "stdout",
     "output_type": "stream",
     "text": [
      "True\n"
     ]
    }
   ],
   "source": [
    "# 15. Hər hansı bir simvolun müəyyən bir stringin içində olub-olmadığını yoxlayın.\n",
    "name = 'Mahammad'\n",
    "char = 'h'\n",
    "\n",
    "if char.lower() in name.lower():\n",
    "    print(True)\n",
    "else:\n",
    "    print(False)"
   ]
  }
 ],
 "metadata": {
  "language_info": {
   "name": "python"
  }
 },
 "nbformat": 4,
 "nbformat_minor": 2
}
