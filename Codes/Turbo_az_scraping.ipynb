{
 "cells": [
  {
   "cell_type": "code",
   "execution_count": 1,
   "metadata": {},
   "outputs": [
    {
     "name": "stderr",
     "output_type": "stream",
     "text": [
      "C:\\Users\\qubadlim\\AppData\\Local\\Temp\\ipykernel_6876\\2113332174.py:2: DeprecationWarning: \n",
      "Pyarrow will become a required dependency of pandas in the next major release of pandas (pandas 3.0),\n",
      "(to allow more performant data types, such as the Arrow string type, and better interoperability with other libraries)\n",
      "but was not found to be installed on your system.\n",
      "If this would cause problems for you,\n",
      "please provide us feedback at https://github.com/pandas-dev/pandas/issues/54466\n",
      "        \n",
      "  import pandas as pd\n"
     ]
    }
   ],
   "source": [
    "# Lazimi kitabxanalari yukleyirik\n",
    "import pandas as pd\n",
    "import os\n",
    "import requests\n",
    "from selenium import webdriver\n",
    "from selenium.webdriver.common.by import By\n",
    "from selenium.webdriver.support.ui import WebDriverWait\n",
    "from webdriver_manager.chrome import ChromeDriverManager\n",
    "from selenium.webdriver.chrome.service import Service\n",
    "from selenium.webdriver.support import expected_conditions as EC"
   ]
  },
  {
   "cell_type": "code",
   "execution_count": 2,
   "metadata": {},
   "outputs": [],
   "source": [
    "# ilk once chrome driverin en son surumu yuklenir daha sonra Chrome webdriveri yaradilir\n",
    "service = Service(ChromeDriverManager().install())\n",
    "driver = webdriver.Chrome(service=service)"
   ]
  },
  {
   "cell_type": "code",
   "execution_count": 3,
   "metadata": {},
   "outputs": [],
   "source": [
    "# sayt linki daxil edilir daha sonra driver.get() metoduna link gonderilerek chrome browser acilir\n",
    "base_url = 'https://turbo.az/autos'\n",
    "driver.get(base_url)"
   ]
  },
  {
   "cell_type": "code",
   "execution_count": 4,
   "metadata": {},
   "outputs": [
    {
     "name": "stdout",
     "output_type": "stream",
     "text": [
      "Message: \n",
      "Stacktrace:\n",
      "\tGetHandleVerifier [0x008F1673+52979]\n",
      "\t(No symbol) [0x00877961]\n",
      "\t(No symbol) [0x0075DD3D]\n",
      "\t(No symbol) [0x00795FBB]\n",
      "\t(No symbol) [0x007960FB]\n",
      "\t(No symbol) [0x007CCF92]\n",
      "\t(No symbol) [0x007B4534]\n",
      "\t(No symbol) [0x007CB3FE]\n",
      "\t(No symbol) [0x007B4286]\n",
      "\t(No symbol) [0x0078C063]\n",
      "\t(No symbol) [0x0078CECD]\n",
      "\tGetHandleVerifier [0x00C08D83+3294723]\n",
      "\tGetHandleVerifier [0x00C46CC2+3548482]\n",
      "\tGetHandleVerifier [0x00C41C9C+3527964]\n",
      "\tGetHandleVerifier [0x0098870E+671630]\n",
      "\t(No symbol) [0x00881EB4]\n",
      "\t(No symbol) [0x0087D808]\n",
      "\t(No symbol) [0x0087D92D]\n",
      "\t(No symbol) [0x0086F7E0]\n",
      "\tBaseThreadInitThunk [0x763EFCC9+25]\n",
      "\tRtlGetAppContainerNamedObjectPath [0x77757B1E+286]\n",
      "\tRtlGetAppContainerNamedObjectPath [0x77757AEE+238]\n",
      "\n",
      "14940\n"
     ]
    }
   ],
   "source": [
    "# Turbo.az saytinda yerlesdirilmis butun elan linklerini saxlamaq ucun ads_links deyiskeni yaradilir\n",
    "ads_links = []\n",
    "\n",
    "# seyfe sayini bilmediyimiz ucun sonsuz dovr istifade edirik\n",
    "while True:\n",
    "    # linkleri cekmek ucun elanlari icinde saxlayan parent elementi tapiriq\n",
    "    ads_container = driver.find_element(By.CSS_SELECTOR, '.products-container')\n",
    "\n",
    "    # product-conatineri altindaki butun elanlari selenium elemnt listi kimi ads_elements e menimsedirik\n",
    "    ads_elements = ads_container.find_elements(By.CSS_SELECTOR, '.products-i .products-i__link')\n",
    "\n",
    "    # her bir elan elementi uzerinde gezib onun 'href' atributundaki deyer cekib ads_links listine elave edirik\n",
    "    for element in ads_elements:\n",
    "        ads_links.append(element.get_attribute('href'))\n",
    "\n",
    "    # diger seyfelerdeki elan linklerini goturmek ucunde novbeti seyfeye kecide imkan veren 'Next' buttonu tapiriq ve click() scriptini ise saliriq\n",
    "    try:\n",
    "        next_button = driver.find_element(By.CSS_SELECTOR, 'a[rel=\"next\"]')\n",
    "        driver.execute_script(\"arguments[0].click();\", next_button)\n",
    "\n",
    "        WebDriverWait(driver, 10).until(EC.presence_of_element_located((By.CSS_SELECTOR, 'a[rel=\"next\"]')))\n",
    "    except Exception as e:\n",
    "        # her hansi xeta yaranarsa ekrana yazdirilir ve eger 'Next' butonu tapilmazsa dovr dayandirilir\n",
    "        print(e)\n",
    "        break\n",
    "\n",
    "\n",
    "print(len(ads_links))"
   ]
  },
  {
   "cell_type": "code",
   "execution_count": 5,
   "metadata": {},
   "outputs": [],
   "source": [
    "# butun elanlarin melumatlarini saxlamaq ucun bos list yaradılır\n",
    "all_ads_infos =[]\n",
    "\n",
    "# Elanlardaki melumatlari cekmek ucun funksiya yazilir. Parametr olarak ads_links de saxladigimiz linkler oturulur\n",
    "def get_ad_infos(url):\n",
    "\n",
    "    # her bir linki webdriverde aciriq\n",
    "    driver.get(url)\n",
    "\n",
    "    # Elan melumatlarini saxlamaq ucun dictionary yaradiriq\n",
    "    ad_infos = {}\n",
    "\n",
    "    # Elan seyfesinde .product container elementinin yerlesmesini gozduyuruk\n",
    "    WebDriverWait(driver, 10).until(EC.presence_of_element_located((By.CSS_SELECTOR, '.product')))\n",
    "\n",
    "    # Melumatlari cekmek ucun Html faylinda lazimi elementleri secirik\n",
    "    product_container = driver.find_element(By.CSS_SELECTOR, '.product')\n",
    "    product_sidebar_container = product_container.find_element(By.CSS_SELECTOR, '.product-sidebar-container .product-sidebar')\n",
    "    product_photos_container = product_container.find_element(By.CSS_SELECTOR, '.product-photos')\n",
    "    product_desc_container = product_container.find_element(By.CSS_SELECTOR, '.product-description__content')\n",
    "\n",
    "    # Avtomabil xususiyyetlerinin qeyd olundurugu elementleri list olaraq properties deyiskenine menimsedirik\n",
    "    properties = product_container.find_elements(By.CSS_SELECTOR, '.product-properties__i')\n",
    "\n",
    "    # properties listindeki elementler uzerinde bir bir gezib avtomabilin xususiyyetlerinin adini ve deyerini uygun deyisenlere menimsedirik\n",
    "    # qeyd: burada bir cox xusisyyetin html strukturu eyni oldugu ucun bu cur yanasma tetbiq olunub\n",
    "    for prop in properties:\n",
    "        prop_name = prop.find_element(By.CSS_SELECTOR, '.product-properties__i-name').text\n",
    "        prop_value = prop.find_element(By.CSS_SELECTOR, '.product-properties__i-value').text\n",
    " \n",
    "        # xususiyyetin adini key, deyerini ise value olaraq ad_infos sozluyune elave edirik\n",
    "        ad_infos[prop_name] = prop_value\n",
    "\n",
    "    # avtomabilin asagidaki xususiyyetlerinin ozunemexsus html strukturu oldugu ucun her birine individual yanasaraq melumatlar cekilir\n",
    "    ad_infos['price'] = product_sidebar_container.find_element(By.CSS_SELECTOR, '.product-price .product-price__i').text\n",
    "\n",
    "    # elan seyfelerinde elan sahibinin adi iki ferqli strukturda ola biler. elan ya agentlik terefinden yada fiziki sexs terefinden verile biler\n",
    "    # bu serti nezere almaq ucun asagidaki kimi bir yanasma tetbiq olunmusudur\n",
    "    seller_elements = product_sidebar_container.find_elements(By.CSS_SELECTOR, '.product-owner .product-owner__info-name, .product-shop__owner-name')\n",
    "\n",
    "    if seller_elements:\n",
    "        ad_infos['seller'] = seller_elements[0].text\n",
    "    else:\n",
    "        ad_infos['seller'] = None\n",
    "\n",
    "    ad_infos['seller_comment'] = product_desc_container.find_element(By.TAG_NAME, 'p').text\n",
    "    ad_infos['img_url'] = product_photos_container.find_elements(By.CSS_SELECTOR, 'img')[1].get_attribute('src')\n",
    "\n",
    "    # elan melumatlari sozluk kimi qaytarilir\n",
    "    return ad_infos\n"
   ]
  },
  {
   "cell_type": "code",
   "execution_count": 6,
   "metadata": {},
   "outputs": [
    {
     "ename": "NoSuchElementException",
     "evalue": "Message: no such element: Unable to locate element: {\"method\":\"css selector\",\"selector\":\".product-description__content\"}\n  (Session info: chrome=121.0.6167.161); For documentation on this error, please visit: https://www.selenium.dev/documentation/webdriver/troubleshooting/errors#no-such-element-exception\nStacktrace:\n\tGetHandleVerifier [0x008F1673+52979]\n\t(No symbol) [0x00877961]\n\t(No symbol) [0x0075DD3D]\n\t(No symbol) [0x00795FBB]\n\t(No symbol) [0x007960FB]\n\t(No symbol) [0x0078DAD1]\n\t(No symbol) [0x007B4534]\n\t(No symbol) [0x0078DA4E]\n\t(No symbol) [0x007B4784]\n\t(No symbol) [0x007CB3FE]\n\t(No symbol) [0x007B4286]\n\t(No symbol) [0x0078C063]\n\t(No symbol) [0x0078CECD]\n\tGetHandleVerifier [0x00C08D83+3294723]\n\tGetHandleVerifier [0x00C46CC2+3548482]\n\tGetHandleVerifier [0x00C41C9C+3527964]\n\tGetHandleVerifier [0x0098870E+671630]\n\t(No symbol) [0x00881EB4]\n\t(No symbol) [0x0087D808]\n\t(No symbol) [0x0087D92D]\n\t(No symbol) [0x0086F7E0]\n\tBaseThreadInitThunk [0x763EFCC9+25]\n\tRtlGetAppContainerNamedObjectPath [0x77757B1E+286]\n\tRtlGetAppContainerNamedObjectPath [0x77757AEE+238]\n",
     "output_type": "error",
     "traceback": [
      "\u001b[1;31m---------------------------------------------------------------------------\u001b[0m",
      "\u001b[1;31mNoSuchElementException\u001b[0m                    Traceback (most recent call last)",
      "Cell \u001b[1;32mIn[6], line 3\u001b[0m\n\u001b[0;32m      1\u001b[0m \u001b[38;5;66;03m# ads_links listindeki butun elan linkleri uzerinde gezib get_ad_infos() funksiyasi ile datalari cekirik. Qeyd: elanlarin umumi sayi 14940 ededir.\u001b[39;00m\n\u001b[0;32m      2\u001b[0m \u001b[38;5;28;01mfor\u001b[39;00m link \u001b[38;5;129;01min\u001b[39;00m ads_links:\n\u001b[1;32m----> 3\u001b[0m     ad_info \u001b[38;5;241m=\u001b[39m \u001b[43mget_ad_infos\u001b[49m\u001b[43m(\u001b[49m\u001b[43mlink\u001b[49m\u001b[43m)\u001b[49m\n\u001b[0;32m      4\u001b[0m     all_ads_infos\u001b[38;5;241m.\u001b[39mappend(ad_info)\n",
      "Cell \u001b[1;32mIn[5], line 20\u001b[0m, in \u001b[0;36mget_ad_infos\u001b[1;34m(url)\u001b[0m\n\u001b[0;32m     18\u001b[0m product_sidebar_container \u001b[38;5;241m=\u001b[39m product_container\u001b[38;5;241m.\u001b[39mfind_element(By\u001b[38;5;241m.\u001b[39mCSS_SELECTOR, \u001b[38;5;124m'\u001b[39m\u001b[38;5;124m.product-sidebar-container .product-sidebar\u001b[39m\u001b[38;5;124m'\u001b[39m)\n\u001b[0;32m     19\u001b[0m product_photos_container \u001b[38;5;241m=\u001b[39m product_container\u001b[38;5;241m.\u001b[39mfind_element(By\u001b[38;5;241m.\u001b[39mCSS_SELECTOR, \u001b[38;5;124m'\u001b[39m\u001b[38;5;124m.product-photos\u001b[39m\u001b[38;5;124m'\u001b[39m)\n\u001b[1;32m---> 20\u001b[0m product_desc_container \u001b[38;5;241m=\u001b[39m \u001b[43mproduct_container\u001b[49m\u001b[38;5;241;43m.\u001b[39;49m\u001b[43mfind_element\u001b[49m\u001b[43m(\u001b[49m\u001b[43mBy\u001b[49m\u001b[38;5;241;43m.\u001b[39;49m\u001b[43mCSS_SELECTOR\u001b[49m\u001b[43m,\u001b[49m\u001b[43m \u001b[49m\u001b[38;5;124;43m'\u001b[39;49m\u001b[38;5;124;43m.product-description__content\u001b[39;49m\u001b[38;5;124;43m'\u001b[39;49m\u001b[43m)\u001b[49m\n\u001b[0;32m     22\u001b[0m \u001b[38;5;66;03m# Avtomabil xususiyyetlerinin qeyd olundurugu elementleri list olaraq properties deyiskenine menimsedirik\u001b[39;00m\n\u001b[0;32m     23\u001b[0m properties \u001b[38;5;241m=\u001b[39m product_container\u001b[38;5;241m.\u001b[39mfind_elements(By\u001b[38;5;241m.\u001b[39mCSS_SELECTOR, \u001b[38;5;124m'\u001b[39m\u001b[38;5;124m.product-properties__i\u001b[39m\u001b[38;5;124m'\u001b[39m)\n",
      "File \u001b[1;32mc:\\Users\\qubadlim\\AppData\\Local\\Programs\\Python\\Python312\\Lib\\site-packages\\selenium\\webdriver\\remote\\webelement.py:417\u001b[0m, in \u001b[0;36mWebElement.find_element\u001b[1;34m(self, by, value)\u001b[0m\n\u001b[0;32m    414\u001b[0m     by \u001b[38;5;241m=\u001b[39m By\u001b[38;5;241m.\u001b[39mCSS_SELECTOR\n\u001b[0;32m    415\u001b[0m     value \u001b[38;5;241m=\u001b[39m \u001b[38;5;124mf\u001b[39m\u001b[38;5;124m'\u001b[39m\u001b[38;5;124m[name=\u001b[39m\u001b[38;5;124m\"\u001b[39m\u001b[38;5;132;01m{\u001b[39;00mvalue\u001b[38;5;132;01m}\u001b[39;00m\u001b[38;5;124m\"\u001b[39m\u001b[38;5;124m]\u001b[39m\u001b[38;5;124m'\u001b[39m\n\u001b[1;32m--> 417\u001b[0m \u001b[38;5;28;01mreturn\u001b[39;00m \u001b[38;5;28;43mself\u001b[39;49m\u001b[38;5;241;43m.\u001b[39;49m\u001b[43m_execute\u001b[49m\u001b[43m(\u001b[49m\u001b[43mCommand\u001b[49m\u001b[38;5;241;43m.\u001b[39;49m\u001b[43mFIND_CHILD_ELEMENT\u001b[49m\u001b[43m,\u001b[49m\u001b[43m \u001b[49m\u001b[43m{\u001b[49m\u001b[38;5;124;43m\"\u001b[39;49m\u001b[38;5;124;43musing\u001b[39;49m\u001b[38;5;124;43m\"\u001b[39;49m\u001b[43m:\u001b[49m\u001b[43m \u001b[49m\u001b[43mby\u001b[49m\u001b[43m,\u001b[49m\u001b[43m \u001b[49m\u001b[38;5;124;43m\"\u001b[39;49m\u001b[38;5;124;43mvalue\u001b[39;49m\u001b[38;5;124;43m\"\u001b[39;49m\u001b[43m:\u001b[49m\u001b[43m \u001b[49m\u001b[43mvalue\u001b[49m\u001b[43m}\u001b[49m\u001b[43m)\u001b[49m[\u001b[38;5;124m\"\u001b[39m\u001b[38;5;124mvalue\u001b[39m\u001b[38;5;124m\"\u001b[39m]\n",
      "File \u001b[1;32mc:\\Users\\qubadlim\\AppData\\Local\\Programs\\Python\\Python312\\Lib\\site-packages\\selenium\\webdriver\\remote\\webelement.py:395\u001b[0m, in \u001b[0;36mWebElement._execute\u001b[1;34m(self, command, params)\u001b[0m\n\u001b[0;32m    393\u001b[0m     params \u001b[38;5;241m=\u001b[39m {}\n\u001b[0;32m    394\u001b[0m params[\u001b[38;5;124m\"\u001b[39m\u001b[38;5;124mid\u001b[39m\u001b[38;5;124m\"\u001b[39m] \u001b[38;5;241m=\u001b[39m \u001b[38;5;28mself\u001b[39m\u001b[38;5;241m.\u001b[39m_id\n\u001b[1;32m--> 395\u001b[0m \u001b[38;5;28;01mreturn\u001b[39;00m \u001b[38;5;28;43mself\u001b[39;49m\u001b[38;5;241;43m.\u001b[39;49m\u001b[43m_parent\u001b[49m\u001b[38;5;241;43m.\u001b[39;49m\u001b[43mexecute\u001b[49m\u001b[43m(\u001b[49m\u001b[43mcommand\u001b[49m\u001b[43m,\u001b[49m\u001b[43m \u001b[49m\u001b[43mparams\u001b[49m\u001b[43m)\u001b[49m\n",
      "File \u001b[1;32mc:\\Users\\qubadlim\\AppData\\Local\\Programs\\Python\\Python312\\Lib\\site-packages\\selenium\\webdriver\\remote\\webdriver.py:347\u001b[0m, in \u001b[0;36mWebDriver.execute\u001b[1;34m(self, driver_command, params)\u001b[0m\n\u001b[0;32m    345\u001b[0m response \u001b[38;5;241m=\u001b[39m \u001b[38;5;28mself\u001b[39m\u001b[38;5;241m.\u001b[39mcommand_executor\u001b[38;5;241m.\u001b[39mexecute(driver_command, params)\n\u001b[0;32m    346\u001b[0m \u001b[38;5;28;01mif\u001b[39;00m response:\n\u001b[1;32m--> 347\u001b[0m     \u001b[38;5;28;43mself\u001b[39;49m\u001b[38;5;241;43m.\u001b[39;49m\u001b[43merror_handler\u001b[49m\u001b[38;5;241;43m.\u001b[39;49m\u001b[43mcheck_response\u001b[49m\u001b[43m(\u001b[49m\u001b[43mresponse\u001b[49m\u001b[43m)\u001b[49m\n\u001b[0;32m    348\u001b[0m     response[\u001b[38;5;124m\"\u001b[39m\u001b[38;5;124mvalue\u001b[39m\u001b[38;5;124m\"\u001b[39m] \u001b[38;5;241m=\u001b[39m \u001b[38;5;28mself\u001b[39m\u001b[38;5;241m.\u001b[39m_unwrap_value(response\u001b[38;5;241m.\u001b[39mget(\u001b[38;5;124m\"\u001b[39m\u001b[38;5;124mvalue\u001b[39m\u001b[38;5;124m\"\u001b[39m, \u001b[38;5;28;01mNone\u001b[39;00m))\n\u001b[0;32m    349\u001b[0m     \u001b[38;5;28;01mreturn\u001b[39;00m response\n",
      "File \u001b[1;32mc:\\Users\\qubadlim\\AppData\\Local\\Programs\\Python\\Python312\\Lib\\site-packages\\selenium\\webdriver\\remote\\errorhandler.py:229\u001b[0m, in \u001b[0;36mErrorHandler.check_response\u001b[1;34m(self, response)\u001b[0m\n\u001b[0;32m    227\u001b[0m         alert_text \u001b[38;5;241m=\u001b[39m value[\u001b[38;5;124m\"\u001b[39m\u001b[38;5;124malert\u001b[39m\u001b[38;5;124m\"\u001b[39m]\u001b[38;5;241m.\u001b[39mget(\u001b[38;5;124m\"\u001b[39m\u001b[38;5;124mtext\u001b[39m\u001b[38;5;124m\"\u001b[39m)\n\u001b[0;32m    228\u001b[0m     \u001b[38;5;28;01mraise\u001b[39;00m exception_class(message, screen, stacktrace, alert_text)  \u001b[38;5;66;03m# type: ignore[call-arg]  # mypy is not smart enough here\u001b[39;00m\n\u001b[1;32m--> 229\u001b[0m \u001b[38;5;28;01mraise\u001b[39;00m exception_class(message, screen, stacktrace)\n",
      "\u001b[1;31mNoSuchElementException\u001b[0m: Message: no such element: Unable to locate element: {\"method\":\"css selector\",\"selector\":\".product-description__content\"}\n  (Session info: chrome=121.0.6167.161); For documentation on this error, please visit: https://www.selenium.dev/documentation/webdriver/troubleshooting/errors#no-such-element-exception\nStacktrace:\n\tGetHandleVerifier [0x008F1673+52979]\n\t(No symbol) [0x00877961]\n\t(No symbol) [0x0075DD3D]\n\t(No symbol) [0x00795FBB]\n\t(No symbol) [0x007960FB]\n\t(No symbol) [0x0078DAD1]\n\t(No symbol) [0x007B4534]\n\t(No symbol) [0x0078DA4E]\n\t(No symbol) [0x007B4784]\n\t(No symbol) [0x007CB3FE]\n\t(No symbol) [0x007B4286]\n\t(No symbol) [0x0078C063]\n\t(No symbol) [0x0078CECD]\n\tGetHandleVerifier [0x00C08D83+3294723]\n\tGetHandleVerifier [0x00C46CC2+3548482]\n\tGetHandleVerifier [0x00C41C9C+3527964]\n\tGetHandleVerifier [0x0098870E+671630]\n\t(No symbol) [0x00881EB4]\n\t(No symbol) [0x0087D808]\n\t(No symbol) [0x0087D92D]\n\t(No symbol) [0x0086F7E0]\n\tBaseThreadInitThunk [0x763EFCC9+25]\n\tRtlGetAppContainerNamedObjectPath [0x77757B1E+286]\n\tRtlGetAppContainerNamedObjectPath [0x77757AEE+238]\n"
     ]
    }
   ],
   "source": [
    "# ads_links listindeki butun elan linkleri uzerinde gezib get_ad_infos() funksiyasi ile datalari cekirik. Qeyd: elanlarin umumi sayi 14940 ededir.\n",
    "for link in ads_links:\n",
    "    ad_info = get_ad_infos(link)\n",
    "    all_ads_infos.append(ad_info)"
   ]
  },
  {
   "cell_type": "code",
   "execution_count": 7,
   "metadata": {},
   "outputs": [],
   "source": [
    "# all_ads_infos listindeki butun elementleri pandas DataFrameine ceviririk\n",
    "df = pd.DataFrame(all_ads_infos)\n",
    "\n",
    "# Butun sutunlarin adlarini ingilis dilindeki qarsiliqlari ile deyisdirik\n",
    "df = df.rename(columns={\n",
    "    'Şəhər' : 'city',\n",
    "    'Marka' : 'brand',\n",
    "    'Model' : 'model',\n",
    "    'Buraxılış ili' : 'production_year',\n",
    "    'Ban növü' : 'ban_type',\n",
    "    'Rəng' : 'color',\n",
    "    'Mühərrik' : 'engine',\n",
    "    'Yürüş' : 'mileage',\n",
    "    'Sürətlər qutusu' : 'gear_box',\n",
    "    'Ötürücü' : 'traction',\n",
    "    'Yeni' : 'new',\n",
    "    'Vəziyyəti' : 'the_situation',\n",
    "    'Hansı bazar üçün yığılıb' : 'market',\n",
    "    'Yerlərin sayı' : 'seats',\n",
    "    'Sahiblər' : 'owners',\n",
    "})"
   ]
  },
  {
   "cell_type": "code",
   "execution_count": 8,
   "metadata": {},
   "outputs": [
    {
     "data": {
      "text/plain": [
       "(8, 19)"
      ]
     },
     "execution_count": 8,
     "metadata": {},
     "output_type": "execute_result"
    }
   ],
   "source": [
    "# DataFramein ilk 5 setirini ekrana cixaririq\n",
    "df.shape"
   ]
  },
  {
   "cell_type": "code",
   "execution_count": null,
   "metadata": {},
   "outputs": [],
   "source": [
    "# DataFrame 'turbo_az_dataset.csv' fayli kimi save edirik\n",
    "df.to_csv('../DataSets/turbo_az_dataset.csv')"
   ]
  },
  {
   "cell_type": "code",
   "execution_count": null,
   "metadata": {},
   "outputs": [],
   "source": [
    "# DataFrame den butun sekil linlerini alib list kimi qaytaririq\n",
    "img_url_list = df['img_url'].tolist()\n",
    "\n",
    "# Sekilleri save etmek ucun fayl yolunu qeyd edirik\n",
    "photo_folder = r'C:\\Users\\qubadlim\\Desktop\\Python\\DataSets\\car_photos'\n",
    "\n",
    "# Eger folder yoxdursa yaradiriq\n",
    "if not os.path.exists(photo_folder):\n",
    "    os.makedirs(photo_folder)\n",
    "\n",
    "# Her bir sekili endirib save edirik\n",
    "for i, img_url in enumerate(img_url_list):\n",
    "    response = requests.get(img_url)\n",
    "    if response.status_code == 200:\n",
    "        with open(os.path.join(photo_folder, f'car_photo_{i+1}.jpg'), 'wb') as f:\n",
    "            f.write(response.content)"
   ]
  }
 ],
 "metadata": {
  "kernelspec": {
   "display_name": "Python 3",
   "language": "python",
   "name": "python3"
  },
  "language_info": {
   "codemirror_mode": {
    "name": "ipython",
    "version": 3
   },
   "file_extension": ".py",
   "mimetype": "text/x-python",
   "name": "python",
   "nbconvert_exporter": "python",
   "pygments_lexer": "ipython3",
   "version": "3.12.1"
  }
 },
 "nbformat": 4,
 "nbformat_minor": 2
}
