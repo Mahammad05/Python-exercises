{
 "cells": [
  {
   "cell_type": "code",
   "execution_count": 7,
   "metadata": {},
   "outputs": [
    {
     "name": "stdout",
     "output_type": "stream",
     "text": [
      "Daxil edilmis eded: 1008, Ededin son reqemi: 8\n"
     ]
    }
   ],
   "source": [
    "# 1. Bir ədəd daxil edilir və sonuncu rəqəmi ekrana yazdırılmalıdır.\n",
    "#    İnput: 1008      Output: 8\n",
    "\n",
    "number = int(input('Enter a number:'))\n",
    "\n",
    "print(f'Daxil edilmis eded: {number}, Ededin son reqemi: {number % 10}')"
   ]
  },
  {
   "cell_type": "code",
   "execution_count": 11,
   "metadata": {},
   "outputs": [
    {
     "name": "stdout",
     "output_type": "stream",
     "text": [
      "Daxil edilmis string: adf6548adf\n",
      "6 5 4 8 "
     ]
    }
   ],
   "source": [
    "# 2. İstifadəçidən bir string alın və içərisindəki rəqəmləri print etdirin.\n",
    "# İnput:\n",
    "# s=”a1d4d4d”\n",
    "# Output:\n",
    "# 1 4 4\n",
    "\n",
    "string = str(input('Enter a string:'))\n",
    "\n",
    "print(f'Daxil edilmis string: {string}')\n",
    "\n",
    "for i in string:\n",
    "    if i.isnumeric() == True:\n",
    "        print(i, end=\" \")"
   ]
  },
  {
   "cell_type": "code",
   "execution_count": 14,
   "metadata": {},
   "outputs": [
    {
     "name": "stdout",
     "output_type": "stream",
     "text": [
      "Daxil edilmis eded: 16546\n",
      "Ededin reqem sayi: 5\n"
     ]
    }
   ],
   "source": [
    "# 3. Daxil edilən ədədin rəqəmlərinin sayını ekrana yazdırın. len(str(n)) üsulundan\n",
    "# istifadə etmək olmaz.\n",
    "# İnput: 1008 Output: 4\n",
    "\n",
    "number = int(input('Enter a number:'))\n",
    "\n",
    "print(f'Daxil edilmis eded: {number}')\n",
    "\n",
    "say = 0\n",
    "\n",
    "while number > 0:\n",
    "    number //= 10\n",
    "    say += 1\n",
    "\n",
    "print(f'Ededin reqem sayi: {say}')"
   ]
  },
  {
   "cell_type": "code",
   "execution_count": 20,
   "metadata": {},
   "outputs": [
    {
     "name": "stdout",
     "output_type": "stream",
     "text": [
      "Daxil edilmis string: mahammad\n",
      "d a m m a h a m "
     ]
    }
   ],
   "source": [
    "# 4. Daxil edilmiş string-in tərsini print etdirin (hazır metod isitfadə etmədən).\n",
    "\n",
    "string = str(input('Enter a string:'))\n",
    "\n",
    "print(f'Daxil edilmis string: {string}')\n",
    "\n",
    "letters = []\n",
    "\n",
    "for i in string:\n",
    "    letters.append(i)\n",
    "\n",
    "char = ''\n",
    "\n",
    "for i in range(len(letters)):\n",
    "    char += letters.pop()\n",
    "\n",
    "for i in char:\n",
    "    print(i, end=\" \")"
   ]
  },
  {
   "cell_type": "code",
   "execution_count": 8,
   "metadata": {},
   "outputs": [
    {
     "name": "stdout",
     "output_type": "stream",
     "text": [
      "11 13 17 31 37 71 73 79 97 101 "
     ]
    }
   ],
   "source": [
    "# 5. 10-dan böyük ilk 10 “güzgü sadə” ədədi ekrana yazdırın. Əgər ədədin həm özü,\n",
    "# həm də tərsi sadədirsə buna “güzgü sadə ədəd” deyilir. Məsələn, 13. Həm 13,\n",
    "# həm də tərsi olan 31 sadə olduğu üçün “güzgü sadə” adlanır. Məsələnin həllində\n",
    "# funksiyadan da istifadə edilməlidir\n",
    "\n",
    "def prime(n):\n",
    "    s = True\n",
    "\n",
    "    for i in range(2, n):\n",
    "        if n % i == 0:\n",
    "            s = False\n",
    "    return s\n",
    "        \n",
    "def reverse_number(n):\n",
    "    \n",
    "    k = ''\n",
    "\n",
    "    while n > 0:\n",
    "        k += str(n % 10)\n",
    "        n //= 10\n",
    "    return int(k)\n",
    "\n",
    "def guzgu_sade(n):\n",
    "\n",
    "    if prime(n) and prime(reverse_number(n)):\n",
    "        return True\n",
    "    else:\n",
    "        return False\n",
    "\n",
    "number = 11\n",
    "say = 0\n",
    "\n",
    "while say < 10:\n",
    "    if guzgu_sade(number):\n",
    "        print(number, end=\" \")\n",
    "        say += 1\n",
    "    number += 1"
   ]
  },
  {
   "cell_type": "code",
   "execution_count": 12,
   "metadata": {},
   "outputs": [
    {
     "name": "stdout",
     "output_type": "stream",
     "text": [
      "12 ve 24 ededleri arasindaki cut ededler: [12, 14, 16, 18, 20, 22, 24], tek ededler: [13, 15, 17, 19, 21, 23]\n"
     ]
    }
   ],
   "source": [
    "# 6. İki ədəd daxil edilir və aralarındakı ədədlər təklər və cütlər ayrı olmaqla\n",
    "# qruplaşdırılır. Cavab aşağıdakı formada olacaq.\n",
    "# İnput: 10 Output: [10, 12, 14, 16, 18, 20]\n",
    "# 20 [11, 13, 15, 17, 19]\n",
    "\n",
    "first = int(input('Enter a first number:'))\n",
    "second = int(input('Enter a second number:'))\n",
    "\n",
    "odd_numbers = []\n",
    "even_numbers = []\n",
    "\n",
    "if first > second:\n",
    "    for i in range(second, first + 1):\n",
    "        if i % 2 == 0:\n",
    "            even_numbers.append(i)\n",
    "        else:\n",
    "            odd_numbers.append(i)\n",
    "else:\n",
    "    for i in range(first, second + 1):\n",
    "        if i % 2 == 0:\n",
    "            even_numbers.append(i)\n",
    "        else:\n",
    "            odd_numbers.append(i)\n",
    "\n",
    "print(f'{first} ve {second} ededleri arasindaki cut ededler: {even_numbers}, tek ededler: {odd_numbers}')"
   ]
  },
  {
   "cell_type": "code",
   "execution_count": 16,
   "metadata": {},
   "outputs": [
    {
     "name": "stdout",
     "output_type": "stream",
     "text": [
      "['Ülviyyə', 'Günay']\n"
     ]
    }
   ],
   "source": [
    "# 7. Aşağıdakı kimi bir list formasında tələbələrin imtahan qiymətləri verilmişdir. Yalnız\n",
    "# qiyməti 50-dən yuxarı olan tələbələrin adlarını list kimi ekrana yazdırın.\n",
    "# Comprehension üsulundan istifadə edilməlidir.\n",
    "# qiymetler=[ (‘Ülviyyə’, 95), (‘Günay’, 100), (‘Seymur’, 45), (‘Aysel’, 49),\n",
    "# (‘Gülxəndə’, 34) ]\n",
    "# Output: adlar=[“Ülviyyə”, “Günay”]\n",
    "\n",
    "qiymetler=[('Ülviyyə', 95), ('Günay', 100), ('Seymur', 45), ('Aysel', 49), ('Gülxəndə', 34)]\n",
    "\n",
    "adlar = [i[0] for i in qiymetler if i[1] > 50]\n",
    "\n",
    "print(adlar)"
   ]
  },
  {
   "cell_type": "code",
   "execution_count": 31,
   "metadata": {},
   "outputs": [
    {
     "name": "stdout",
     "output_type": "stream",
     "text": [
      "False\n"
     ]
    }
   ],
   "source": [
    "# 8. İki söz daxil edilir və 2-ci sözün 1-ci sözün hərflərindən əmələ gəlib-gəlmədiyi\n",
    "# yoxlanılır.\n",
    "# İnput: “ankara” İnput: “bakı”\n",
    "# “kaarna” “zkabı”\n",
    "# Output: True Output: False\n",
    "\n",
    "first_str = str(input('Enter a first string:'))\n",
    "second_str = str(input('Enter a second string:'))\n",
    "\n",
    "def char_check(str1, str2):\n",
    "\n",
    "    for i in str2:\n",
    "        if i not in str1:\n",
    "            return False\n",
    "    return True\n",
    "\n",
    "if char_check(first_str, second_str):\n",
    "    print(True)\n",
    "else:\n",
    "    print(False)"
   ]
  },
  {
   "cell_type": "code",
   "execution_count": 38,
   "metadata": {},
   "outputs": [
    {
     "name": "stdout",
     "output_type": "stream",
     "text": [
      "[25, 169, 64, 9]\n"
     ]
    }
   ],
   "source": [
    "# 9. [5,20,30,60,50] şəklində hər hansı bir list götürülür və yalnız 20-dən kiçik\n",
    "# elementlərin kvadratında ibarət yeni bir list yaradılır. Mütləq map, lambda, filter\n",
    "# kimi metodlardan istifadə edilməlidir.\n",
    "\n",
    "numbers = [5, 20, 13, 8, 35, 48, 3]\n",
    "\n",
    "square = lambda x: x**2\n",
    "\n",
    "def small(x):\n",
    "    return x < 20\n",
    "\n",
    "sqr_list = list(map(square, filter(small, numbers)))\n",
    "\n",
    "print(sqr_list)"
   ]
  },
  {
   "cell_type": "code",
   "execution_count": 46,
   "metadata": {},
   "outputs": [
    {
     "name": "stdout",
     "output_type": "stream",
     "text": [
      "Daxil edilmis ededler: [5, 12, 43, 27, 15, 56, 71, 49, 64] \n",
      " Sade ededler: [5, 43, 71] \n",
      " Murekkeb ededler: [12, 27, 15, 56, 49, 64]\n"
     ]
    }
   ],
   "source": [
    "# 10.Götürülmüş hər hansı bir siyahının içindəki sadə ədədləri bir list, mürəkkəb\n",
    "# ədədləri başqa bir list olmaqla ekrana yazdırın. Məsələnin həllində funksiyadan\n",
    "# da istifadə edilməlidir\n",
    "\n",
    "numbers = [5, 12, 43, 27, 15, 56, 71, 49, 64]\n",
    "\n",
    "prime_numbers = []\n",
    "complex_numbers = []\n",
    "\n",
    "def prime(n):\n",
    "    s = True\n",
    "\n",
    "    for i in range(2, n):\n",
    "        if n % i == 0:\n",
    "            s = False\n",
    "    return s\n",
    "\n",
    "def number_checker(arr):\n",
    "    for i in arr:\n",
    "        if prime(i):\n",
    "            prime_numbers.append(i)\n",
    "        else:\n",
    "            complex_numbers.append(i)\n",
    "\n",
    "number_checker(numbers)\n",
    "\n",
    "print(f'Daxil edilmis ededler: {numbers} \\n Sade ededler: {prime_numbers} \\n Murekkeb ededler: {complex_numbers}')"
   ]
  },
  {
   "cell_type": "code",
   "execution_count": 49,
   "metadata": {},
   "outputs": [
    {
     "name": "stdout",
     "output_type": "stream",
     "text": [
      "{12: 479001600, 5: 120, 8: 40320, 16: 20922789888000, 7: 5040, 4: 24}\n"
     ]
    }
   ],
   "source": [
    "# 11. Götürülmüş hər hansı bir siyahıdakı ədədlərin faktorialını tapın. Sonda isə ədəd\n",
    "# qarşısında faktorialı olmaqla bir dictionary düzəldin və onu ekrana yazdırın.\n",
    "# Məsələnin həllində funksiyadan da istifadə edilməlidir.\n",
    "\n",
    "numbers = [12, 5, 8, 16, 7, 4,]\n",
    "\n",
    "fakt = dict()\n",
    "\n",
    "def faktorial(n):\n",
    "    f = 1\n",
    "    for i in range(1, n + 1):\n",
    "        f *= i\n",
    "    return f\n",
    "\n",
    "for i in numbers:\n",
    "    fakt[i] = faktorial(i)\n",
    "\n",
    "print(fakt)"
   ]
  },
  {
   "cell_type": "code",
   "execution_count": 55,
   "metadata": {},
   "outputs": [
    {
     "name": "stdout",
     "output_type": "stream",
     "text": [
      "Daxil edilmis eded: 8, Netice: [1, 4, 9, 16, 25, 36, 49, 64]\n"
     ]
    }
   ],
   "source": [
    "# 12.Bir n ədədi daxil edilir və 1-dən n-ə qədər hər bir ədədin kvadratından ibarət list\n",
    "# ekrana yazdırımalıdır. Comprehension istifadə edilməlidir.\n",
    "# İnput: 5\n",
    "# Output: [ 1, 4, 9, 16, 25]\n",
    "\n",
    "number = int(input('Enter a number:'))\n",
    "\n",
    "squares = [i ** 2 for i in range(1, number + 1)]\n",
    "    \n",
    "print(f'Daxil edilmis eded: {number}, Netice: {squares}')"
   ]
  },
  {
   "cell_type": "code",
   "execution_count": 58,
   "metadata": {},
   "outputs": [
    {
     "name": "stdout",
     "output_type": "stream",
     "text": [
      "Daxil edilmis eded: 265\n",
      "Ededin reqemleri cemi: 13\n"
     ]
    }
   ],
   "source": [
    "# 13.Daxil edilən ədədin rəqəmləri cəmini ekrana yazdırın.\n",
    "# İnput: 125 Output: 8\n",
    "\n",
    "n = int(input('Enter a number:'))\n",
    "\n",
    "print(f'Daxil edilmis eded: {n}')\n",
    "\n",
    "total = 0\n",
    "\n",
    "while n > 0:\n",
    "    total += n % 10\n",
    "    n //= 10\n",
    "\n",
    "print(f'Ededin reqemleri cemi: {total}')"
   ]
  },
  {
   "cell_type": "code",
   "execution_count": 63,
   "metadata": {},
   "outputs": [
    {
     "name": "stdout",
     "output_type": "stream",
     "text": [
      "Daxil edilmis ededler: [4, 8, 9, 12, 36], En kicik ve en boyuk ededin cemi: 40\n"
     ]
    }
   ],
   "source": [
    "# 14.Tək sətirdə istənilən sayda boşluqla ayrılmış ədəd daxil edilir. Ən böyük və ən\n",
    "# kiçiyin cəmini ekrana yazdırın. max() və min() metodlarından istifadə etmək\n",
    "# olmaz. Reduce istifadə edilməlidir.\n",
    "# İnput: 4 7 8 9 10 Output: 14\n",
    "\n",
    "from functools import reduce\n",
    "\n",
    "n = str(input('Enter numbers:')).split()\n",
    "\n",
    "numbers = []\n",
    "\n",
    "for i in n:\n",
    "    numbers.append(int(i))\n",
    "\n",
    "big = 0\n",
    "small = numbers[0]\n",
    "\n",
    "for i in numbers:\n",
    "    if big < i:\n",
    "        big = i\n",
    "    elif small > i:\n",
    "        small = i\n",
    "\n",
    "tot = lambda a,b: a+b\n",
    "\n",
    "total = reduce(tot, [big, small])\n",
    "\n",
    "print(f'Daxil edilmis ededler: {numbers}, En kicik ve en boyuk ededin cemi: {total}')"
   ]
  },
  {
   "cell_type": "code",
   "execution_count": 68,
   "metadata": {},
   "outputs": [
    {
     "name": "stdout",
     "output_type": "stream",
     "text": [
      "Artimdan evvelki maaslar: [1500, 3500, 2000, 4000, 5300, 2400] \n",
      " Artimdan sonraki maaslar: [1800.0, 3850.0, 2400.0, 4400.0, 5830.0, 2880.0]\n"
     ]
    }
   ],
   "source": [
    "# 15. Bir list formasında çalışanların əmək haqqları verilir. Əmək haqqı 3000-dən çox\n",
    "# olan işçilərin əmək haqqını 10%, 3000-dən az olan işçilərin əmək haqqını 20 faiz\n",
    "# artıran python proqramı yazın. Map və s. kimi metodlardan istifadə edilməlidir.\n",
    "\n",
    "salaries = [1500, 3500, 2000, 4000, 5300, 2400]\n",
    "\n",
    "def salary_growth(s):\n",
    "    s\n",
    "\n",
    "    if s < 3000:\n",
    "        s += s * 20 / 100\n",
    "    else:\n",
    "        s += s * 10 / 100\n",
    "\n",
    "    return s\n",
    "\n",
    "new_salaries = list(map(salary_growth, salaries))\n",
    "\n",
    "print(f'Artimdan evvelki maaslar: {salaries} \\n Artimdan sonraki maaslar: {new_salaries}')"
   ]
  },
  {
   "cell_type": "code",
   "execution_count": 77,
   "metadata": {},
   "outputs": [
    {
     "name": "stdout",
     "output_type": "stream",
     "text": [
      "['rick', 'morty', 'summer', 'jerry', 'beth']\n"
     ]
    }
   ],
   "source": [
    "# 16.names = [\"Rick Sanchez\", \"Morty Smith\", \"Summer Smith\", \"Jerry Smith\", \"Beth\n",
    "# Smith\"] verilmiş list-dən yalnız adların olduğu və kiçik hərflərlə yazıldığı list\n",
    "# düzəldin və bunu comprehension ilə edin.\n",
    "\n",
    "names_surnames = [\"Rick Sanchez\", \"Morty Smith\", \"Summer Smith\", \"Jerry Smith\", \"Beth Smith\"]\n",
    "\n",
    "names = [i.split(' ')[0].lower() for i in names_surnames]\n",
    "\n",
    "print(names)"
   ]
  },
  {
   "cell_type": "code",
   "execution_count": 89,
   "metadata": {},
   "outputs": [
    {
     "name": "stdout",
     "output_type": "stream",
     "text": [
      "Telefon nomresi: 0506867226, Olmayan ededler: [1, 3, 4, 9]\n"
     ]
    }
   ],
   "source": [
    "# 17.Mobil telefon nömrəsi daxil edilir və nömrədə olmayan rəqəmləri list formasında\n",
    "# ekrana yazdırın.\n",
    "# İnput: 0513832244 Output: [6, 7, 9]\n",
    "\n",
    "phone_number = str(input('Enter a phone number:'))\n",
    "\n",
    "numbers = []\n",
    "\n",
    "for i in range(10):\n",
    "    if str(i) not in phone_number:\n",
    "        numbers.append(i)\n",
    "\n",
    "print(f'Telefon nomresi: {phone_number}, Olmayan ededler: {numbers}')"
   ]
  },
  {
   "cell_type": "code",
   "execution_count": 90,
   "metadata": {},
   "outputs": [
    {
     "name": "stdout",
     "output_type": "stream",
     "text": [
      "[0, 11, 22, 33, 44, 55, 66, 77, 88, 99]\n"
     ]
    }
   ],
   "source": [
    "# 18. 11-ə bölünən və 100-dən kiçik bütün ədədləri bir list formasında ekrana yazdırın\n",
    "\n",
    "numbers = []\n",
    "\n",
    "for i in range(100):\n",
    "    if i % 11 == 0:\n",
    "        numbers.append(i)\n",
    "\n",
    "print(numbers)"
   ]
  },
  {
   "cell_type": "code",
   "execution_count": 92,
   "metadata": {},
   "outputs": [
    {
     "name": "stdout",
     "output_type": "stream",
     "text": [
      "mahammad\n",
      "mahammad\n",
      "mahammad\n",
      "mahammad\n",
      "mahammad\n",
      "mahammad\n",
      "mahammad\n",
      "mahammad\n"
     ]
    }
   ],
   "source": [
    "# 19. İstifadəçi adını daxil edir və adını hərflərin sayı qədər ekrana yazdırın.\n",
    "\n",
    "name = str(input('Enter a name:'))\n",
    "\n",
    "for i in range(len(name)):\n",
    "    print(name)"
   ]
  },
  {
   "cell_type": "code",
   "execution_count": 1,
   "metadata": {},
   "outputs": [
    {
     "name": "stdout",
     "output_type": "stream",
     "text": [
      "18-den sonraki ilk sade eded: 19\n"
     ]
    }
   ],
   "source": [
    "# 20. Daxil edilən ədəddən sonrakı ilk sadə ədədi ekrana yazdırın.\n",
    "# İnput: 11 Output: 13\n",
    "\n",
    "n = int(input('Enter a number:'))\n",
    "\n",
    "def prime(n):\n",
    "    s = True\n",
    "\n",
    "    for i in range(2, n):\n",
    "        if n % i == 0:\n",
    "            s = False\n",
    "    return s\n",
    "\n",
    "print(f'{n}-den sonraki', end=' ')\n",
    "\n",
    "while True:\n",
    "    if prime(n+1):\n",
    "        print(f'ilk sade eded: {n+1}')\n",
    "        break\n",
    "    n += 1"
   ]
  },
  {
   "cell_type": "code",
   "execution_count": 5,
   "metadata": {},
   "outputs": [
    {
     "name": "stdout",
     "output_type": "stream",
     "text": [
      "Ikilik eded: 1110111, onluq sistemdeki qarsiligi: 119\n"
     ]
    }
   ],
   "source": [
    "# 21. İkilik say sistemində daxil edilmiş ədədi onluq say sisteminə çevirən Python\n",
    "# kodunu yazın.\n",
    "\n",
    "n = str(input('Enter a number in binary:'))\n",
    "l = len(n)\n",
    "s = 0\n",
    "\n",
    "for i in range(l):\n",
    "    s += int(n[i]) * 2 ** (l - 1 - i)\n",
    "\n",
    "print(f'Ikilik eded: {n}, onluq sistemdeki qarsiligi: {s}')"
   ]
  },
  {
   "cell_type": "code",
   "execution_count": 9,
   "metadata": {},
   "outputs": [
    {
     "name": "stdout",
     "output_type": "stream",
     "text": [
      "T\n",
      "u\n",
      "r\n",
      "a\n",
      "n\n"
     ]
    }
   ],
   "source": [
    "# 22. İstifadəçi adını daxil edir və hər bir hərfini alt-alta olmaqla ekrana yazdırın(While\n",
    "# ilə).\n",
    "\n",
    "name = str(input('Enter your name:'))\n",
    "\n",
    "while len(name) > 0:\n",
    "    print(name[0])\n",
    "    name = name[1:]"
   ]
  },
  {
   "cell_type": "code",
   "execution_count": 22,
   "metadata": {},
   "outputs": [
    {
     "name": "stdout",
     "output_type": "stream",
     "text": [
      "[1, 2, 3, 5, 8, 13, 21, 34, 55, 89, 144, 233, 377, 610, 987, 1597, 2584, 4181, 6765]\n"
     ]
    }
   ],
   "source": [
    "# 23. Fibonaççı seriyasında hər ədəd özündən əvvəlki 2 ədədin cəminə bərabərdir. 1\n",
    "# və 2 ilə başyalan sırada: 1, 2, 3, 5, 8, 13, 21, 34, 55, 89, … Buna görə bu sıranın\n",
    "# 10000-dən kiçik bütün üzvlərini ekrana yazdırın.\n",
    "\n",
    "fibo = [1, 2]\n",
    "\n",
    "tot = 0\n",
    "\n",
    "while tot < 10000:\n",
    "    tot = fibo[-1] + fibo[-2]\n",
    "    if tot > 10000:\n",
    "        break\n",
    "    fibo.append(tot)\n",
    "\n",
    "print(fibo)"
   ]
  },
  {
   "cell_type": "code",
   "execution_count": 28,
   "metadata": {},
   "outputs": [
    {
     "name": "stdout",
     "output_type": "stream",
     "text": [
      "2 hefte 1 gun\n"
     ]
    }
   ],
   "source": [
    "# 24.Funksiya yazın və funksiyaya arqument olaraq ayın gününü göndərin və funksiya\n",
    "# həftə və gün formatında qaytarsın.\n",
    "# İnput:\n",
    "# 23\n",
    "# Output:\n",
    "# 3 həftə, 2 gün\n",
    "\n",
    "day = int(input('Enter a day of the month:'))\n",
    "\n",
    "def week_day(day):\n",
    "    print(f'{day // 7} hefte {day % 7} gun')\n",
    "\n",
    "week_day(day)"
   ]
  },
  {
   "cell_type": "code",
   "execution_count": 38,
   "metadata": {},
   "outputs": [
    {
     "name": "stdout",
     "output_type": "stream",
     "text": [
      "25557 ededinde 5 reqeminin sayi: 3\n"
     ]
    }
   ],
   "source": [
    "# 25.n ədədindəki a rəqəminin sayını hesablayın. str()-dən istifadə etmək olmaz. İnput\n",
    "# ədəd tipində alınmalıdır.\n",
    "#         İnput:25557                    Output: 3\n",
    "\n",
    "number  = int(input('Enter a number:'))\n",
    "\n",
    "n = number\n",
    "\n",
    "digit = int(input('Enter a digit you want to count:'))\n",
    "\n",
    "say = 0\n",
    "\n",
    "k = 0\n",
    "\n",
    "while True:\n",
    "    k = number % 10\n",
    "    number = number // 10\n",
    "    if k == digit:\n",
    "        say += 1\n",
    "    elif number == 0:\n",
    "        break\n",
    "\n",
    "print(f'{n} ededinde {digit} reqeminin sayi: {say}')"
   ]
  },
  {
   "cell_type": "code",
   "execution_count": 42,
   "metadata": {},
   "outputs": [
    {
     "name": "stdout",
     "output_type": "stream",
     "text": [
      "['3', '5', '-7', '7', '5', '-9', '-4'] listindeki muxtelif elementlerin sayi: 6\n"
     ]
    }
   ],
   "source": [
    "# 26.n sayda boşluqla ayrılmış tam ədəd daxil edilir. Müxtəlif elementlərin sayı ekrana\n",
    "# yazdırılır.\n",
    "# İnput: 3 5 -7 7 5 -9 -4                Output: 6\n",
    "\n",
    "numbers = str(input('Enter numbers:')).split()\n",
    "\n",
    "for i in numbers:\n",
    "    int(i)\n",
    "\n",
    "unique_numbers = set(numbers)\n",
    "\n",
    "print(f'{numbers} listindeki muxtelif elementlerin sayi: {len(unique_numbers)}')"
   ]
  },
  {
   "cell_type": "code",
   "execution_count": 45,
   "metadata": {},
   "outputs": [
    {
     "name": "stdout",
     "output_type": "stream",
     "text": [
      "Pifaqor uclusu: a=200, b=375, c=425, Toplam=1000\n"
     ]
    }
   ],
   "source": [
    "# 27.Pifaqor teoremindəki 3 natural ədəd a, b və c-dir. a<b<c və a^2+b^2=c^2. Misal,\n",
    "# 3^2+4^2=5^2. a+b+c-nin 1000-ə bərabər olduğu sadəcə 1 Pifaqor üçlüsü vardır.\n",
    "# Verilənlərə görə a, b və c-ni tapan python kodu yazın.\n",
    "\n",
    "def find_pythagorean_triple(target_sum):\n",
    "    for a in range(1, target_sum):\n",
    "        for b in range(a, target_sum - a):\n",
    "            c = target_sum - a - b\n",
    "            if a**2 + b**2 == c**2:\n",
    "                return a, b, c\n",
    "\n",
    "target_sum = 1000\n",
    "result = find_pythagorean_triple(target_sum)\n",
    "\n",
    "if result:\n",
    "    a, b, c = result\n",
    "    print(f\"Pifaqor uclusu: a={a}, b={b}, c={c}, Toplam={a+b+c}\")\n",
    "else:\n",
    "    print(f\"{target_sum}'a beraber Pifaqor uclusu yoxdur.\")"
   ]
  },
  {
   "cell_type": "code",
   "execution_count": 70,
   "metadata": {},
   "outputs": [
    {
     "name": "stdout",
     "output_type": "stream",
     "text": [
      "7927\n"
     ]
    }
   ],
   "source": [
    "# 28. İlk 6 sadə ədədi kiçikdən böyüyə sıralasaq 6-cının 13 olduğunu görərik. Buna\n",
    "# görə 10001-ci sadə ədədi ekrana yazdırın.\n",
    "\n",
    "def prime(n):\n",
    "    s = True\n",
    "\n",
    "    for i in range(2, n):\n",
    "        if n % i == 0:\n",
    "            s = False\n",
    "    return s\n",
    "\n",
    "prime_numbers = []\n",
    "n = 1\n",
    "say = -1\n",
    "\n",
    "while True:\n",
    "    if prime(n):\n",
    "        prime_numbers.append(n)\n",
    "        say += 1\n",
    "    elif say == 1001:\n",
    "        break\n",
    "    n += 1\n",
    "\n",
    "\n",
    "print(prime_numbers[say])"
   ]
  },
  {
   "cell_type": "code",
   "execution_count": 85,
   "metadata": {},
   "outputs": [
    {
     "name": "stdout",
     "output_type": "stream",
     "text": [
      "Daxil edlmis reqemler: ('5', '6', '5', '4', '2', '4'), \n",
      " Her ededin tekrarlanma sayi: [(6, 1), (2, 1), (4, 2), (5, 2)]\n"
     ]
    }
   ],
   "source": [
    "# 29.n sayda boşluqla ayrılmış tam ədəd daxil edilir. Rəqəmlərin işarəsi nəzərə\n",
    "# alınmadan hər rəqəm və siyahının içindəki sayından ibarət tuple-lar yaradılır və\n",
    "# onlar da bir listin içində olmaq şərti ilə ekrana yazdırılır.\n",
    "# Output: [ (1, 3), (2, 2), (3, 1), (0, 1) ]\n",
    "\n",
    "numbers = tuple(str(input('Enter numbers:')).split())\n",
    "\n",
    "n = []\n",
    "\n",
    "for i in numbers:\n",
    "    n.append((int(i), numbers.count(i)))\n",
    "\n",
    "k = set(n)\n",
    "\n",
    "print(f'Daxil edlmis reqemler: {numbers}, \\n Her ededin tekrarlanma sayi: {list(k)}')"
   ]
  },
  {
   "cell_type": "code",
   "execution_count": 114,
   "metadata": {},
   "outputs": [
    {
     "name": "stdout",
     "output_type": "stream",
     "text": [
      "Daxil edilen eded: 71, ikilik sistemdeki qarsiligi: 1000111\n"
     ]
    }
   ],
   "source": [
    "# 30. Onluq say sistemində(müsbət ədəd) daxil edilmiş ədədi ikilik say sisteminə\n",
    "# çevirən Python kodunu yazın.\n",
    "\n",
    "number = int(input('Enter a number:'))\n",
    "n = number\n",
    "\n",
    "k = []\n",
    "\n",
    "while True:\n",
    "    k.append(str(n % 2))\n",
    "    n = n // 2\n",
    "    if n == 0:\n",
    "        break\n",
    "\n",
    "ikilik = ''\n",
    "\n",
    "for i in range(len(k)):\n",
    "    ikilik += k.pop()\n",
    "\n",
    "print(f'Daxil edilen eded: {number}, ikilik sistemdeki qarsiligi: {ikilik}')"
   ]
  }
 ],
 "metadata": {
  "kernelspec": {
   "display_name": "Python 3",
   "language": "python",
   "name": "python3"
  },
  "language_info": {
   "codemirror_mode": {
    "name": "ipython",
    "version": 3
   },
   "file_extension": ".py",
   "mimetype": "text/x-python",
   "name": "python",
   "nbconvert_exporter": "python",
   "pygments_lexer": "ipython3",
   "version": "3.12.1"
  }
 },
 "nbformat": 4,
 "nbformat_minor": 2
}
