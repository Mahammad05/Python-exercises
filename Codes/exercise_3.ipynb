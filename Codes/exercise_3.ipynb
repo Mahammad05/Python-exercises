{
 "cells": [
  {
   "cell_type": "code",
   "execution_count": 2,
   "metadata": {},
   "outputs": [
    {
     "name": "stdout",
     "output_type": "stream",
     "text": [
      "Input: x = 12, y = 25\n",
      "Output: x = 25, y = 12\n"
     ]
    }
   ],
   "source": [
    "# 1. x və y ədədləri daxil edilir və bu ədədlərin yeri dəyişdirilir. Yəni x=10, y=20 isə x=20, y=10 edilir.\n",
    "#  İnput:\n",
    "#  10 \n",
    "#  20\n",
    "#  Output:\n",
    "#  20\n",
    "#  10\n",
    "\n",
    "x = int(input('Enter a number:'))\n",
    "y = int(input('Enter a number:'))\n",
    "\n",
    "print(f'Input: x = {x}, y = {y}')\n",
    "\n",
    "temp = x\n",
    "x = y\n",
    "y = temp\n",
    "\n",
    "print(f'Output: x = {x}, y = {y}')"
   ]
  },
  {
   "cell_type": "code",
   "execution_count": 3,
   "metadata": {},
   "outputs": [
    {
     "name": "stdout",
     "output_type": "stream",
     "text": [
      "123abc\n"
     ]
    }
   ],
   "source": [
    "# 2. Asagidaki kodun neticesi ne olacaq\n",
    "\n",
    "print(\"123\" + \"abc\")\n",
    "\n",
    "# Iki stringi + simovlu vasitesi ile birlesdirmek mumumkundur. Neticede bu kodun cixisi \"123abc\" olacaq"
   ]
  },
  {
   "cell_type": "code",
   "execution_count": 5,
   "metadata": {},
   "outputs": [
    {
     "name": "stdout",
     "output_type": "stream",
     "text": [
      "98\n"
     ]
    }
   ],
   "source": [
    "# 3. Asagidaki kodun neticesi ne olacaq\n",
    "\n",
    "x = int(98.6)\n",
    "\n",
    "print(x)\n",
    "# Burada 98.6 float tipinden olan ondaliqli bir ededdir. int() metodundan istifade ederek bu ededi tam edede ceviririk. Netice 98 olacaq yeni ondaliq hisse atilacaq"
   ]
  },
  {
   "cell_type": "code",
   "execution_count": 6,
   "metadata": {},
   "outputs": [
    {
     "name": "stdout",
     "output_type": "stream",
     "text": [
      "True\n"
     ]
    }
   ],
   "source": [
    "# 4. kodun nəticəsi nə olacaq?\n",
    "\n",
    "print((3 == 4)==0)\n",
    "\n",
    "# Burada 3 == 4 ifadesi false qaytaracaq. 0 da false value oldugundan kodun yekun neticesi True olacaq"
   ]
  },
  {
   "cell_type": "code",
   "execution_count": 8,
   "metadata": {},
   "outputs": [
    {
     "name": "stdout",
     "output_type": "stream",
     "text": [
      "The length of the circle is 50.26548245743669\n"
     ]
    }
   ],
   "source": [
    "# 5. İstifadəçidən çevrənin radiusunu alın və uzunluğunu hesablayın. Cevrenin uzunlugunu hesablamaq ucun 2pir dusturundan istifade olunur\n",
    "\n",
    "import math\n",
    "radius = int(input('Enter a radius:'))\n",
    "\n",
    "circle_len = 2 * math.pi * radius\n",
    "\n",
    "print(f'The length of the circle is {circle_len}')"
   ]
  },
  {
   "cell_type": "code",
   "execution_count": 9,
   "metadata": {},
   "outputs": [],
   "source": [
    "# 6. Aşağıda verilmişlərdən hansılar Python-da keyword-dür?\n",
    "#  list, dict, or, if\n",
    "\n",
    "# list ifadesi key word deyil. sadece [] ile ifade etdiyimiz verilenin tipidir\n",
    "# dict keyworddur yeni bir dictionary yaratmaq ucun istifade olunur\n",
    "# or metniqi ifadesi keywordur 've ya' mentiqi elementidir\n",
    "# if sert operatorudur"
   ]
  },
  {
   "cell_type": "code",
   "execution_count": 10,
   "metadata": {},
   "outputs": [
    {
     "name": "stdout",
     "output_type": "stream",
     "text": [
      "Small\n",
      "All done\n"
     ]
    }
   ],
   "source": [
    "# 7. Aşağıdakı kodun nəticəsində ekrana nə çıxacaq?\n",
    "\n",
    "x = 0\n",
    "if x < 2 :\n",
    "    print('Small')\n",
    "elif x < 10 :\n",
    "    print('Medium')\n",
    "else :\n",
    "    print('LARGE')\n",
    "print('All done')\n",
    "\n",
    "# x 0 olduqgundan ilk sert odenilecek ve ekarana \"Small\" yazdirilacaq. x < 10 sertide odenilir lakin ilk sert odenildiyi ucun bu sert yoxlanilmayacaq. En sonda ekrana \"All done\" yazdirilacaq.\n",
    "# Yekun netice \"Small\" \"All done\" olacaq"
   ]
  },
  {
   "cell_type": "code",
   "execution_count": 1,
   "metadata": {},
   "outputs": [
    {
     "name": "stdout",
     "output_type": "stream",
     "text": [
      "5\n"
     ]
    }
   ],
   "source": [
    "# 8. Aşağıdakı kodun nəticəsində ekrana nə çıxacaq?\n",
    "\n",
    "tot = 0 \n",
    "for i in [5, 4, 3, 2, 1] :\n",
    "    tot = tot + 1\n",
    "print(tot)\n",
    "\n",
    "# Kodu calisdirdiqda alacagimiz netice 5 olaacaq. Cunki listin uzunluqu 5 oldugundan dovr 5 defe tekrerlanacaq ve her dovrde tot-un uzerine 1 elave olunacaq "
   ]
  },
  {
   "cell_type": "code",
   "execution_count": 5,
   "metadata": {},
   "outputs": [
    {
     "name": "stdout",
     "output_type": "stream",
     "text": [
      "10\n",
      "15\n",
      "20\n",
      "25\n"
     ]
    }
   ],
   "source": [
    "# 9. 5-ə bölünən və 30-dan kiçik ədədləri print etdirin.\n",
    "\n",
    "for i in range(6, 30):\n",
    "    if i % 5 == 0:\n",
    "        print(i)"
   ]
  },
  {
   "cell_type": "code",
   "execution_count": null,
   "metadata": {},
   "outputs": [],
   "source": [
    "# 10. Deyək ki, bir string var, məsələn S='Natiq'. Bunun içində tapın ki, hər hərfdən neçə dənədir(dictionary formatında print edin). {N:1, a:1} və s. şəkildə.\n",
    "\n",
    "name = str('Enter a name:')\n",
    "\n",
    "for i in name "
   ]
  },
  {
   "cell_type": "code",
   "execution_count": 8,
   "metadata": {},
   "outputs": [
    {
     "name": "stdout",
     "output_type": "stream",
     "text": [
      "24 cut ededdir\n"
     ]
    }
   ],
   "source": [
    "# 11. İstifadəcinin daxil etdiyi ədədin təkmi cütmü olduğunu print etdirin.\n",
    "\n",
    "n = int(input('Enter a number:'))\n",
    "\n",
    "if n % 2 == 0:\n",
    "    print(f'{n} cut ededdir')\n",
    "else:\n",
    "    print(f'{n} tek ededdir')"
   ]
  },
  {
   "cell_type": "code",
   "execution_count": 12,
   "metadata": {},
   "outputs": [
    {
     "name": "stdout",
     "output_type": "stream",
     "text": [
      "1-den 32-a qeder olan tek ededlerin cemi: 256, cut ededlerin cemi: 240\n"
     ]
    }
   ],
   "source": [
    "# 12. İstifadəçidən bir ədəd alın ve 1-dən bu ədədə qədər olan tək ədədləri bir, cüt ədədləri də bir toplayin. Sonda hər iki nəticənin print etdirin. print edərkən format() metodundan istifadə edin.\n",
    "\n",
    "number = int(input('Enter a number:'))\n",
    "\n",
    "tek_ededler = []\n",
    "cut_ededler = []\n",
    "\n",
    "def tek_cut(n):\n",
    "    if n % 2 == 0:\n",
    "        return 'C'\n",
    "    else: \n",
    "        return 'T'\n",
    "    \n",
    "for i in range(1, number):\n",
    "    if tek_cut(i) == 'T':\n",
    "        tek_ededler.append(i)\n",
    "    else:\n",
    "        cut_ededler.append(i)\n",
    "\n",
    "tek_total = sum(tek_ededler)\n",
    "cut_total = sum(cut_ededler)\n",
    "\n",
    "print(f'1-den {number}-a qeder olan tek ededlerin cemi: {tek_total}, cut ededlerin cemi: {cut_total}')"
   ]
  },
  {
   "cell_type": "code",
   "execution_count": 15,
   "metadata": {},
   "outputs": [
    {
     "name": "stdout",
     "output_type": "stream",
     "text": [
      "sdfg321847addf stringinin icindeki ededler:\n",
      "1 2 3 4 7 8 "
     ]
    }
   ],
   "source": [
    "# 13.\tİstifadəçidən bir string alın və içərisindəki rəqəmləri print etdirin.\n",
    "#  İnput:\n",
    "#  s=”a1d4d4d”\n",
    "#  Output:\n",
    "#  1 4 4\n",
    "\n",
    "string = str(input('Enter a string:'))\n",
    "\n",
    "numbers = [0, 1, 2, 3, 4, 5, 6, 7, 8, 9]\n",
    "\n",
    "print(f'{string} stringinin icindeki ededler:')\n",
    "\n",
    "for i in numbers:\n",
    "    if str(i) in string:\n",
    "        print(i, end=' ')"
   ]
  },
  {
   "cell_type": "code",
   "execution_count": 18,
   "metadata": {},
   "outputs": [
    {
     "name": "stdout",
     "output_type": "stream",
     "text": [
      "24 murekkeb ededdir\n"
     ]
    }
   ],
   "source": [
    "# 14. İstifadəçinin daxil etdiyi ədədin sadə yoxsa mürəkkəb olduğunu print etdirin.\n",
    "\n",
    "n = int(input('Enter a number:'))\n",
    "\n",
    "k='S'\n",
    "\n",
    "for i in range(2, n):\n",
    "    if n % i == 0:\n",
    "        k = 'M'\n",
    "\n",
    "if k == 'S':\n",
    "    print(f'{n} sade ededdir')\n",
    "else:\n",
    "    print(f'{n} murekkeb ededdir')"
   ]
  },
  {
   "cell_type": "code",
   "execution_count": 22,
   "metadata": {},
   "outputs": [
    {
     "name": "stdout",
     "output_type": "stream",
     "text": [
      "Daxil edilmis string: mahammad\n",
      "d\n",
      "a\n",
      "m\n",
      "m\n",
      "a\n",
      "h\n",
      "a\n",
      "m\n"
     ]
    }
   ],
   "source": [
    "# 15. Daxil edilmiş string-in tərsini print etdirin (hazır metod isitfadə etmədən).\n",
    "\n",
    "string = str(input('Enter a string:'))\n",
    "\n",
    "letters = []\n",
    "\n",
    "print(f'Daxil edilmis string: {string}')\n",
    "\n",
    "for i in string:\n",
    "    letters.append(i)\n",
    "\n",
    "while len(letters) > 0:\n",
    "    print(letters.pop())"
   ]
  },
  {
   "cell_type": "code",
   "execution_count": 44,
   "metadata": {},
   "outputs": [
    {
     "name": "stdout",
     "output_type": "stream",
     "text": [
      "Metindeki son vergulun indexi: 26\n",
      "25\n"
     ]
    }
   ],
   "source": [
    "# 16. s=” AXC, Parlament, Gəncə, May,” verilmiş stringdə sonuncu  vergülün index-ni print etdirin.\n",
    "\n",
    "s = 'AXC, Parlament, Gence, May,'\n",
    "k = s\n",
    "\n",
    "index = -1\n",
    "\n",
    "for i in s:\n",
    "    k = k[(len(k) - 1):]\n",
    "    index += 1\n",
    "\n",
    "print(f'Metindeki son vergulun indexi: {index}')\n",
    "print(s.index('y'))"
   ]
  },
  {
   "cell_type": "code",
   "execution_count": 45,
   "metadata": {},
   "outputs": [
    {
     "name": "stdout",
     "output_type": "stream",
     "text": [
      "4\n",
      "2\n"
     ]
    }
   ],
   "source": [
    "# 17. Aşağıdakı kodun nəticəsi nə olacaq?\n",
    "\n",
    "a = [1, 5, 8]\n",
    "b = [2, 6, 9, 10]\n",
    "c = [100, 200]\n",
    "print(max([len(a), len(b), len(c)]))\n",
    "print(min([len(a), len(b), len(c)]))\n",
    "\n",
    "# a listinin uzunlugu 3, b listinin uzunlugu 4 ve c listinin uzunlugu 2-dir. Neticede ekrana 4 2 cixacaq\n"
   ]
  },
  {
   "cell_type": "code",
   "execution_count": 47,
   "metadata": {},
   "outputs": [
    {
     "name": "stdout",
     "output_type": "stream",
     "text": [
      "24 cut ededdir ve 5-e bolunmesinden alinan qalig: 4\n"
     ]
    }
   ],
   "source": [
    "# 18. İstifadəcinin daxil etdiyi ədədin təkmi cütmü olduğunu print etdirin. Əgər təkdirsə kvadratını, cütdürsə 5-ə bölünməsindən alınan qalığı print etdirin. \n",
    "\n",
    "number = int(input('Enter a number:'))\n",
    "\n",
    "if number % 2 == 0:\n",
    "    print(f'{number} cut ededdir ve 5-e bolunmesinden alinan qalig: {number % 5}')\n",
    "else:\n",
    "    print(f'{number} tek ededdir ve kvadrati: {number ** 2}')"
   ]
  },
  {
   "cell_type": "code",
   "execution_count": 1,
   "metadata": {},
   "outputs": [
    {
     "name": "stdout",
     "output_type": "stream",
     "text": [
      "2450\n"
     ]
    }
   ],
   "source": [
    "# 19. 0-dan 100-ə qədər cüt ədədləri toplayın.\n",
    "\n",
    "total = 0\n",
    "\n",
    "for i in range(100):\n",
    "    if i % 2 == 0:\n",
    "        total += i\n",
    "\n",
    "print(total)"
   ]
  },
  {
   "cell_type": "code",
   "execution_count": 9,
   "metadata": {},
   "outputs": [
    {
     "name": "stdout",
     "output_type": "stream",
     "text": [
      "Daxil edilmis ededler: [5, 9, 4, 8, 6, 8, 3], Her iki qonsusundan boyuk olan ededlerin sayi: 3\n"
     ]
    }
   ],
   "source": [
    "# 20. Tək sətirdə n sayda boşluqla ayrılmış ədəd daxil edilir. Hər 2 qonsuşundan böyük olan elementlərin sayını ekrana yazdırın.\n",
    "#   İnput: 9 5 -7 -7 5 -9 -4                                            Output: 1\n",
    "\n",
    "n = str(input('Enter a number:')).split(' ')\n",
    "\n",
    "numbers = []\n",
    "say = 0\n",
    "\n",
    "for i in n:\n",
    "    numbers.append(int(i))\n",
    "\n",
    "for i in range(1, len(numbers)-1):\n",
    "    if numbers[i-1] < numbers[i] > numbers[i + 1]:\n",
    "        say += 1\n",
    "\n",
    "print(f'Daxil edilmis ededler: {numbers}, Her iki qonsusundan boyuk olan ededlerin sayi: {say}')"
   ]
  },
  {
   "cell_type": "code",
   "execution_count": 27,
   "metadata": {},
   "outputs": [
    {
     "name": "stdout",
     "output_type": "stream",
     "text": [
      "Eded: 33\n",
      "=\n"
     ]
    }
   ],
   "source": [
    "# 21. İkirəqəmli ədəd daxilir edilir və əgər rəqəmləri bərabərdirsə ekrana “=”, əks halda heç nə yazdırılır.\n",
    "# İnput: 33                                                                 Output :=\n",
    "\n",
    "n = int(input('Enter a number:'))\n",
    "\n",
    "print(f'Eded: {n}')\n",
    "\n",
    "digits = []\n",
    "\n",
    "for i in range(2):\n",
    "    digits.append(n % 10)\n",
    "    n = n // 10\n",
    "\n",
    "for i in range(len(digits)-1):\n",
    "    if digits[i] == digits[i+1]:\n",
    "        print(\"=\")"
   ]
  },
  {
   "cell_type": "code",
   "execution_count": 31,
   "metadata": {},
   "outputs": [
    {
     "name": "stdout",
     "output_type": "stream",
     "text": [
      "Daxil edilen eded: 37, 5-e boldukde alinan qalig: 2\n"
     ]
    }
   ],
   "source": [
    "# 22. Daxil edilən n ədədinin 5-ə bölünməsindən alınana qalığı ekrana yazdırın.\n",
    "# İnput: 26                                                                 Output: 1\n",
    "\n",
    "n = int(input('Enter a number:'))\n",
    "\n",
    "print(f'Daxil edilen eded: {n}, 5-e boldukde alinan qalig: {n % 5}')"
   ]
  },
  {
   "cell_type": "code",
   "execution_count": 32,
   "metadata": {},
   "outputs": [],
   "source": [
    "# 23.\tAşağıdakı yazılışlardan doğru və ya yanlış olanları qarşısına qeyd edin.\n",
    "# a=Natiq  True        1 a=5  True\n",
    "# b=”5”   True         a1=5 True\n",
    "# c=’4’  True          d=’book’s’  False\n",
    "# b=5   True           c=’45.2’ True"
   ]
  }
 ],
 "metadata": {
  "kernelspec": {
   "display_name": "Python 3",
   "language": "python",
   "name": "python3"
  },
  "language_info": {
   "codemirror_mode": {
    "name": "ipython",
    "version": 3
   },
   "file_extension": ".py",
   "mimetype": "text/x-python",
   "name": "python",
   "nbconvert_exporter": "python",
   "pygments_lexer": "ipython3",
   "version": "3.12.1"
  }
 },
 "nbformat": 4,
 "nbformat_minor": 2
}
