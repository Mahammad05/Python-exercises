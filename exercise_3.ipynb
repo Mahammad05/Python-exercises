{
 "cells": [
  {
   "cell_type": "code",
   "execution_count": 2,
   "metadata": {},
   "outputs": [
    {
     "name": "stdout",
     "output_type": "stream",
     "text": [
      "Input: x = 12, y = 25\n",
      "Output: x = 25, y = 12\n"
     ]
    }
   ],
   "source": [
    "# 1. x və y ədədləri daxil edilir və bu ədədlərin yeri dəyişdirilir. Yəni x=10, y=20 isə x=20, y=10 edilir.\n",
    "#  İnput:\n",
    "#  10 \n",
    "#  20\n",
    "#  Output:\n",
    "#  20\n",
    "#  10\n",
    "\n",
    "x = int(input('Enter a number:'))\n",
    "y = int(input('Enter a number:'))\n",
    "\n",
    "print(f'Input: x = {x}, y = {y}')\n",
    "\n",
    "temp = x\n",
    "x = y\n",
    "y = temp\n",
    "\n",
    "print(f'Output: x = {x}, y = {y}')"
   ]
  },
  {
   "cell_type": "code",
   "execution_count": 3,
   "metadata": {},
   "outputs": [
    {
     "name": "stdout",
     "output_type": "stream",
     "text": [
      "123abc\n"
     ]
    }
   ],
   "source": [
    "# 2. Asagidaki kodun neticesi ne olacaq\n",
    "\n",
    "print(\"123\" + \"abc\")\n",
    "\n",
    "# Iki stringi + simovlu vasitesi ile birlesdirmek mumumkundur. Neticede bu kodun cixisi \"123abc\" olacaq"
   ]
  },
  {
   "cell_type": "code",
   "execution_count": 5,
   "metadata": {},
   "outputs": [
    {
     "name": "stdout",
     "output_type": "stream",
     "text": [
      "98\n"
     ]
    }
   ],
   "source": [
    "# 3. Asagidaki kodun neticesi ne olacaq\n",
    "\n",
    "x = int(98.6)\n",
    "\n",
    "print(x)\n",
    "# Burada 98.6 float tipinden olan ondaliqli bir ededdir. int() metodundan istifade ederek bu ededi tam edede ceviririk. Netice 98 olacaq yeni ondaliq hisse atilacaq"
   ]
  },
  {
   "cell_type": "code",
   "execution_count": 6,
   "metadata": {},
   "outputs": [
    {
     "name": "stdout",
     "output_type": "stream",
     "text": [
      "True\n"
     ]
    }
   ],
   "source": [
    "# 4. kodun nəticəsi nə olacaq?\n",
    "\n",
    "print((3 == 4)==0)\n",
    "\n",
    "# Burada 3 == 4 ifadesi false qaytaracaq. 0 da false value oldugundan kodun yekun neticesi True olacaq"
   ]
  },
  {
   "cell_type": "code",
   "execution_count": 8,
   "metadata": {},
   "outputs": [
    {
     "name": "stdout",
     "output_type": "stream",
     "text": [
      "The length of the circle is 50.26548245743669\n"
     ]
    }
   ],
   "source": [
    "# 5. İstifadəçidən çevrənin radiusunu alın və uzunluğunu hesablayın. Cevrenin uzunlugunu hesablamaq ucun 2pir dusturundan istifade olunur\n",
    "\n",
    "import math\n",
    "radius = int(input('Enter a radius:'))\n",
    "\n",
    "circle_len = 2 * math.pi * radius\n",
    "\n",
    "print(f'The length of the circle is {circle_len}')"
   ]
  },
  {
   "cell_type": "code",
   "execution_count": 9,
   "metadata": {},
   "outputs": [],
   "source": [
    "# 6. Aşağıda verilmişlərdən hansılar Python-da keyword-dür?\n",
    "#  list, dict, or, if\n",
    "\n",
    "# list ifadesi key word deyil. sadece [] ile ifade etdiyimiz verilenin tipidir\n",
    "# dict keyworddur yeni bir dictionary yaratmaq ucun istifade olunur\n",
    "# or metniqi ifadesi keywordur 've ya' mentiqi elementidir\n",
    "# if sert operatorudur"
   ]
  },
  {
   "cell_type": "code",
   "execution_count": 10,
   "metadata": {},
   "outputs": [
    {
     "name": "stdout",
     "output_type": "stream",
     "text": [
      "Small\n",
      "All done\n"
     ]
    }
   ],
   "source": [
    "# 7. Aşağıdakı kodun nəticəsində ekrana nə çıxacaq?\n",
    "\n",
    "x = 0\n",
    "if x < 2 :\n",
    "    print('Small')\n",
    "elif x < 10 :\n",
    "    print('Medium')\n",
    "else :\n",
    "    print('LARGE')\n",
    "print('All done')\n",
    "\n",
    "# x 0 olduqgundan ilk sert odenilecek ve ekarana \"Small\" yazdirilacaq. x < 10 sertide odenilir lakin ilk sert odenildiyi ucun bu sert yoxlanilmayacaq. En sonda ekrana \"All done\" yazdirilacaq.\n",
    "# Yekun netice \"Small\" \"All done\" olacaq"
   ]
  },
  {
   "cell_type": "code",
   "execution_count": null,
   "metadata": {},
   "outputs": [],
   "source": []
  }
 ],
 "metadata": {
  "kernelspec": {
   "display_name": "Python 3",
   "language": "python",
   "name": "python3"
  },
  "language_info": {
   "codemirror_mode": {
    "name": "ipython",
    "version": 3
   },
   "file_extension": ".py",
   "mimetype": "text/x-python",
   "name": "python",
   "nbconvert_exporter": "python",
   "pygments_lexer": "ipython3",
   "version": "3.12.1"
  }
 },
 "nbformat": 4,
 "nbformat_minor": 2
}
