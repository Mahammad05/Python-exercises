{
 "cells": [
  {
   "cell_type": "code",
   "execution_count": 7,
   "metadata": {},
   "outputs": [
    {
     "name": "stdout",
     "output_type": "stream",
     "text": [
      "Daxil edilmis eded: 1008, Ededin son reqemi: 8\n"
     ]
    }
   ],
   "source": [
    "# 1. Bir ədəd daxil edilir və sonuncu rəqəmi ekrana yazdırılmalıdır.\n",
    "#    İnput: 1008      Output: 8\n",
    "\n",
    "number = int(input('Enter a number:'))\n",
    "\n",
    "print(f'Daxil edilmis eded: {number}, Ededin son reqemi: {number % 10}')"
   ]
  },
  {
   "cell_type": "code",
   "execution_count": 11,
   "metadata": {},
   "outputs": [
    {
     "name": "stdout",
     "output_type": "stream",
     "text": [
      "Daxil edilmis string: adf6548adf\n",
      "6 5 4 8 "
     ]
    }
   ],
   "source": [
    "# 2. İstifadəçidən bir string alın və içərisindəki rəqəmləri print etdirin.\n",
    "# İnput:\n",
    "# s=”a1d4d4d”\n",
    "# Output:\n",
    "# 1 4 4\n",
    "\n",
    "string = str(input('Enter a string:'))\n",
    "\n",
    "print(f'Daxil edilmis string: {string}')\n",
    "\n",
    "for i in string:\n",
    "    if i.isnumeric() == True:\n",
    "        print(i, end=\" \")"
   ]
  },
  {
   "cell_type": "code",
   "execution_count": 14,
   "metadata": {},
   "outputs": [
    {
     "name": "stdout",
     "output_type": "stream",
     "text": [
      "Daxil edilmis eded: 16546\n",
      "Ededin reqem sayi: 5\n"
     ]
    }
   ],
   "source": [
    "# 3. Daxil edilən ədədin rəqəmlərinin sayını ekrana yazdırın. len(str(n)) üsulundan\n",
    "# istifadə etmək olmaz.\n",
    "# İnput: 1008 Output: 4\n",
    "\n",
    "number = int(input('Enter a number:'))\n",
    "\n",
    "print(f'Daxil edilmis eded: {number}')\n",
    "\n",
    "say = 0\n",
    "\n",
    "while number > 0:\n",
    "    number //= 10\n",
    "    say += 1\n",
    "\n",
    "print(f'Ededin reqem sayi: {say}')"
   ]
  },
  {
   "cell_type": "code",
   "execution_count": 20,
   "metadata": {},
   "outputs": [
    {
     "name": "stdout",
     "output_type": "stream",
     "text": [
      "Daxil edilmis string: mahammad\n",
      "d a m m a h a m "
     ]
    }
   ],
   "source": [
    "# 4. Daxil edilmiş string-in tərsini print etdirin (hazır metod isitfadə etmədən).\n",
    "\n",
    "string = str(input('Enter a string:'))\n",
    "\n",
    "print(f'Daxil edilmis string: {string}')\n",
    "\n",
    "letters = []\n",
    "\n",
    "for i in string:\n",
    "    letters.append(i)\n",
    "\n",
    "char = ''\n",
    "\n",
    "for i in range(len(letters)):\n",
    "    char += letters.pop()\n",
    "\n",
    "for i in char:\n",
    "    print(i, end=\" \")"
   ]
  },
  {
   "cell_type": "code",
   "execution_count": 55,
   "metadata": {},
   "outputs": [
    {
     "name": "stdout",
     "output_type": "stream",
     "text": [
      "True\n"
     ]
    }
   ],
   "source": [
    "# 5. 10-dan böyük ilk 10 “güzgü sadə” ədədi ekrana yazdırın. Əgər ədədin həm özü,\n",
    "# həm də tərsi sadədirsə buna “güzgü sadə ədəd” deyilir. Məsələn, 13. Həm 13,\n",
    "# həm də tərsi olan 31 sadə olduğu üçün “güzgü sadə” adlanır. Məsələnin həllində\n",
    "# funksiyadan da istifadə edilməlidir\n",
    "\n",
    "def prime(n):\n",
    "\n",
    "    for i in range(2, n):\n",
    "        if n % i == 0:\n",
    "            return False\n",
    "        else:\n",
    "            return True\n",
    "        \n",
    "def reverse_number(n):\n",
    "    \n",
    "    k = ''\n",
    "\n",
    "    while n > 0:\n",
    "        k += str(n % 10)\n",
    "        n //= 10\n",
    "    return int(k)\n",
    "\n",
    "def guzgu_sade(n):\n",
    "\n",
    "    if prime(n) == True and prime(reverse_number(n)) == True:\n",
    "        return True\n",
    "    else:\n",
    "        return False\n",
    "\n",
    "number = 11\n",
    "say = 0\n",
    "\n",
    "# while say < 10:\n",
    "#     if guzgu_sade(number) == True:\n",
    "#         print(number)\n",
    "#         say += 1\n",
    "    \n",
    "    \n",
    "print(prime(15))"
   ]
  }
 ],
 "metadata": {
  "kernelspec": {
   "display_name": "Python 3",
   "language": "python",
   "name": "python3"
  },
  "language_info": {
   "codemirror_mode": {
    "name": "ipython",
    "version": 3
   },
   "file_extension": ".py",
   "mimetype": "text/x-python",
   "name": "python",
   "nbconvert_exporter": "python",
   "pygments_lexer": "ipython3",
   "version": "3.12.1"
  }
 },
 "nbformat": 4,
 "nbformat_minor": 2
}
